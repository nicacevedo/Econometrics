{
 "metadata": {
  "language_info": {
   "codemirror_mode": {
    "name": "ipython",
    "version": 3
   },
   "file_extension": ".py",
   "mimetype": "text/x-python",
   "name": "python",
   "nbconvert_exporter": "python",
   "pygments_lexer": "ipython3",
   "version": "3.9.4"
  },
  "orig_nbformat": 2,
  "kernelspec": {
   "name": "python394jvsc74a57bd0f06a86bce79acaf3acf2e76ec4fe633dd4361b94f634cdb8baa7b4f8e375f272",
   "display_name": "Python 3.9.4 64-bit"
  },
  "metadata": {
   "interpreter": {
    "hash": "f06a86bce79acaf3acf2e76ec4fe633dd4361b94f634cdb8baa7b4f8e375f272"
   }
  }
 },
 "nbformat": 4,
 "nbformat_minor": 2,
 "cells": [
  {
   "source": [
    "# 2. Sección de Ejercicios Computacionales"
   ],
   "cell_type": "markdown",
   "metadata": {}
  },
  {
   "source": [
    "import numpy as np \n",
    "import pandas as pd \n",
    "import matplotlib.pyplot as plt"
   ],
   "cell_type": "code",
   "metadata": {},
   "execution_count": 3,
   "outputs": []
  },
  {
   "source": [
    "![caption](imgs/enunciado.png)"
   ],
   "cell_type": "markdown",
   "metadata": {}
  },
  {
   "cell_type": "code",
   "execution_count": 5,
   "metadata": {},
   "outputs": [
    {
     "output_type": "display_data",
     "data": {
      "text/plain": "<Figure size 432x288 with 1 Axes>",
      "image/svg+xml": "<?xml version=\"1.0\" encoding=\"utf-8\" standalone=\"no\"?>\r\n<!DOCTYPE svg PUBLIC \"-//W3C//DTD SVG 1.1//EN\"\r\n  \"http://www.w3.org/Graphics/SVG/1.1/DTD/svg11.dtd\">\r\n<svg height=\"248.518125pt\" version=\"1.1\" viewBox=\"0 0 375.2875 248.518125\" width=\"375.2875pt\" xmlns=\"http://www.w3.org/2000/svg\" xmlns:xlink=\"http://www.w3.org/1999/xlink\">\r\n <metadata>\r\n  <rdf:RDF xmlns:cc=\"http://creativecommons.org/ns#\" xmlns:dc=\"http://purl.org/dc/elements/1.1/\" xmlns:rdf=\"http://www.w3.org/1999/02/22-rdf-syntax-ns#\">\r\n   <cc:Work>\r\n    <dc:type rdf:resource=\"http://purl.org/dc/dcmitype/StillImage\"/>\r\n    <dc:date>2021-06-07T00:12:15.573598</dc:date>\r\n    <dc:format>image/svg+xml</dc:format>\r\n    <dc:creator>\r\n     <cc:Agent>\r\n      <dc:title>Matplotlib v3.4.1, https://matplotlib.org/</dc:title>\r\n     </cc:Agent>\r\n    </dc:creator>\r\n   </cc:Work>\r\n  </rdf:RDF>\r\n </metadata>\r\n <defs>\r\n  <style type=\"text/css\">*{stroke-linecap:butt;stroke-linejoin:round;}</style>\r\n </defs>\r\n <g id=\"figure_1\">\r\n  <g id=\"patch_1\">\r\n   <path d=\"M 0 248.518125 \r\nL 375.2875 248.518125 \r\nL 375.2875 0 \r\nL 0 0 \r\nz\r\n\" style=\"fill:none;\"/>\r\n  </g>\r\n  <g id=\"axes_1\">\r\n   <g id=\"patch_2\">\r\n    <path d=\"M 33.2875 224.64 \r\nL 368.0875 224.64 \r\nL 368.0875 7.2 \r\nL 33.2875 7.2 \r\nz\r\n\" style=\"fill:#ffffff;\"/>\r\n   </g>\r\n   <g id=\"patch_3\">\r\n    <path clip-path=\"url(#p3f88e2d687)\" d=\"M 48.505682 224.64 \r\nL 51.549318 224.64 \r\nL 51.549318 223.999859 \r\nL 48.505682 223.999859 \r\nz\r\n\" style=\"fill:#1f77b4;\"/>\r\n   </g>\r\n   <g id=\"patch_4\">\r\n    <path clip-path=\"url(#p3f88e2d687)\" d=\"M 51.549318 224.64 \r\nL 54.592955 224.64 \r\nL 54.592955 223.999859 \r\nL 51.549318 223.999859 \r\nz\r\n\" style=\"fill:#1f77b4;\"/>\r\n   </g>\r\n   <g id=\"patch_5\">\r\n    <path clip-path=\"url(#p3f88e2d687)\" d=\"M 54.592955 224.64 \r\nL 57.636591 224.64 \r\nL 57.636591 223.679788 \r\nL 54.592955 223.679788 \r\nz\r\n\" style=\"fill:#1f77b4;\"/>\r\n   </g>\r\n   <g id=\"patch_6\">\r\n    <path clip-path=\"url(#p3f88e2d687)\" d=\"M 57.636591 224.64 \r\nL 60.680227 224.64 \r\nL 60.680227 224.319929 \r\nL 57.636591 224.319929 \r\nz\r\n\" style=\"fill:#1f77b4;\"/>\r\n   </g>\r\n   <g id=\"patch_7\">\r\n    <path clip-path=\"url(#p3f88e2d687)\" d=\"M 60.680227 224.64 \r\nL 63.723864 224.64 \r\nL 63.723864 224.64 \r\nL 60.680227 224.64 \r\nz\r\n\" style=\"fill:#1f77b4;\"/>\r\n   </g>\r\n   <g id=\"patch_8\">\r\n    <path clip-path=\"url(#p3f88e2d687)\" d=\"M 63.723864 224.64 \r\nL 66.7675 224.64 \r\nL 66.7675 223.359717 \r\nL 63.723864 223.359717 \r\nz\r\n\" style=\"fill:#1f77b4;\"/>\r\n   </g>\r\n   <g id=\"patch_9\">\r\n    <path clip-path=\"url(#p3f88e2d687)\" d=\"M 66.7675 224.64 \r\nL 69.811136 224.64 \r\nL 69.811136 223.679788 \r\nL 66.7675 223.679788 \r\nz\r\n\" style=\"fill:#1f77b4;\"/>\r\n   </g>\r\n   <g id=\"patch_10\">\r\n    <path clip-path=\"url(#p3f88e2d687)\" d=\"M 69.811136 224.64 \r\nL 72.854773 224.64 \r\nL 72.854773 223.679788 \r\nL 69.811136 223.679788 \r\nz\r\n\" style=\"fill:#1f77b4;\"/>\r\n   </g>\r\n   <g id=\"patch_11\">\r\n    <path clip-path=\"url(#p3f88e2d687)\" d=\"M 72.854773 224.64 \r\nL 75.898409 224.64 \r\nL 75.898409 223.039647 \r\nL 72.854773 223.039647 \r\nz\r\n\" style=\"fill:#1f77b4;\"/>\r\n   </g>\r\n   <g id=\"patch_12\">\r\n    <path clip-path=\"url(#p3f88e2d687)\" d=\"M 75.898409 224.64 \r\nL 78.942045 224.64 \r\nL 78.942045 222.399505 \r\nL 75.898409 222.399505 \r\nz\r\n\" style=\"fill:#1f77b4;\"/>\r\n   </g>\r\n   <g id=\"patch_13\">\r\n    <path clip-path=\"url(#p3f88e2d687)\" d=\"M 78.942045 224.64 \r\nL 81.985682 224.64 \r\nL 81.985682 220.159011 \r\nL 78.942045 220.159011 \r\nz\r\n\" style=\"fill:#1f77b4;\"/>\r\n   </g>\r\n   <g id=\"patch_14\">\r\n    <path clip-path=\"url(#p3f88e2d687)\" d=\"M 81.985682 224.64 \r\nL 85.029318 224.64 \r\nL 85.029318 219.83894 \r\nL 81.985682 219.83894 \r\nz\r\n\" style=\"fill:#1f77b4;\"/>\r\n   </g>\r\n   <g id=\"patch_15\">\r\n    <path clip-path=\"url(#p3f88e2d687)\" d=\"M 85.029318 224.64 \r\nL 88.072955 224.64 \r\nL 88.072955 216.638234 \r\nL 85.029318 216.638234 \r\nz\r\n\" style=\"fill:#1f77b4;\"/>\r\n   </g>\r\n   <g id=\"patch_16\">\r\n    <path clip-path=\"url(#p3f88e2d687)\" d=\"M 88.072955 224.64 \r\nL 91.116591 224.64 \r\nL 91.116591 219.198799 \r\nL 88.072955 219.198799 \r\nz\r\n\" style=\"fill:#1f77b4;\"/>\r\n   </g>\r\n   <g id=\"patch_17\">\r\n    <path clip-path=\"url(#p3f88e2d687)\" d=\"M 91.116591 224.64 \r\nL 94.160227 224.64 \r\nL 94.160227 217.278375 \r\nL 91.116591 217.278375 \r\nz\r\n\" style=\"fill:#1f77b4;\"/>\r\n   </g>\r\n   <g id=\"patch_18\">\r\n    <path clip-path=\"url(#p3f88e2d687)\" d=\"M 94.160227 224.64 \r\nL 97.203864 224.64 \r\nL 97.203864 213.117456 \r\nL 94.160227 213.117456 \r\nz\r\n\" style=\"fill:#1f77b4;\"/>\r\n   </g>\r\n   <g id=\"patch_19\">\r\n    <path clip-path=\"url(#p3f88e2d687)\" d=\"M 97.203864 224.64 \r\nL 100.2475 224.64 \r\nL 100.2475 208.636467 \r\nL 97.203864 208.636467 \r\nz\r\n\" style=\"fill:#1f77b4;\"/>\r\n   </g>\r\n   <g id=\"patch_20\">\r\n    <path clip-path=\"url(#p3f88e2d687)\" d=\"M 100.2475 224.64 \r\nL 103.291136 224.64 \r\nL 103.291136 208.636467 \r\nL 100.2475 208.636467 \r\nz\r\n\" style=\"fill:#1f77b4;\"/>\r\n   </g>\r\n   <g id=\"patch_21\">\r\n    <path clip-path=\"url(#p3f88e2d687)\" d=\"M 103.291136 224.64 \r\nL 106.334773 224.64 \r\nL 106.334773 202.555125 \r\nL 103.291136 202.555125 \r\nz\r\n\" style=\"fill:#1f77b4;\"/>\r\n   </g>\r\n   <g id=\"patch_22\">\r\n    <path clip-path=\"url(#p3f88e2d687)\" d=\"M 106.334773 224.64 \r\nL 109.378409 224.64 \r\nL 109.378409 200.954771 \r\nL 106.334773 200.954771 \r\nz\r\n\" style=\"fill:#1f77b4;\"/>\r\n   </g>\r\n   <g id=\"patch_23\">\r\n    <path clip-path=\"url(#p3f88e2d687)\" d=\"M 109.378409 224.64 \r\nL 112.422045 224.64 \r\nL 112.422045 194.233288 \r\nL 109.378409 194.233288 \r\nz\r\n\" style=\"fill:#1f77b4;\"/>\r\n   </g>\r\n   <g id=\"patch_24\">\r\n    <path clip-path=\"url(#p3f88e2d687)\" d=\"M 112.422045 224.64 \r\nL 115.465682 224.64 \r\nL 115.465682 193.273076 \r\nL 112.422045 193.273076 \r\nz\r\n\" style=\"fill:#1f77b4;\"/>\r\n   </g>\r\n   <g id=\"patch_25\">\r\n    <path clip-path=\"url(#p3f88e2d687)\" d=\"M 115.465682 224.64 \r\nL 118.509318 224.64 \r\nL 118.509318 177.269543 \r\nL 115.465682 177.269543 \r\nz\r\n\" style=\"fill:#1f77b4;\"/>\r\n   </g>\r\n   <g id=\"patch_26\">\r\n    <path clip-path=\"url(#p3f88e2d687)\" d=\"M 118.509318 224.64 \r\nL 121.552955 224.64 \r\nL 121.552955 183.030815 \r\nL 118.509318 183.030815 \r\nz\r\n\" style=\"fill:#1f77b4;\"/>\r\n   </g>\r\n   <g id=\"patch_27\">\r\n    <path clip-path=\"url(#p3f88e2d687)\" d=\"M 121.552955 224.64 \r\nL 124.596591 224.64 \r\nL 124.596591 181.430461 \r\nL 121.552955 181.430461 \r\nz\r\n\" style=\"fill:#1f77b4;\"/>\r\n   </g>\r\n   <g id=\"patch_28\">\r\n    <path clip-path=\"url(#p3f88e2d687)\" d=\"M 124.596591 224.64 \r\nL 127.640227 224.64 \r\nL 127.640227 165.746999 \r\nL 124.596591 165.746999 \r\nz\r\n\" style=\"fill:#1f77b4;\"/>\r\n   </g>\r\n   <g id=\"patch_29\">\r\n    <path clip-path=\"url(#p3f88e2d687)\" d=\"M 127.640227 224.64 \r\nL 130.683864 224.64 \r\nL 130.683864 164.786787 \r\nL 127.640227 164.786787 \r\nz\r\n\" style=\"fill:#1f77b4;\"/>\r\n   </g>\r\n   <g id=\"patch_30\">\r\n    <path clip-path=\"url(#p3f88e2d687)\" d=\"M 130.683864 224.64 \r\nL 133.7275 224.64 \r\nL 133.7275 145.582548 \r\nL 130.683864 145.582548 \r\nz\r\n\" style=\"fill:#1f77b4;\"/>\r\n   </g>\r\n   <g id=\"patch_31\">\r\n    <path clip-path=\"url(#p3f88e2d687)\" d=\"M 133.7275 224.64 \r\nL 136.771136 224.64 \r\nL 136.771136 139.181135 \r\nL 133.7275 139.181135 \r\nz\r\n\" style=\"fill:#1f77b4;\"/>\r\n   </g>\r\n   <g id=\"patch_32\">\r\n    <path clip-path=\"url(#p3f88e2d687)\" d=\"M 136.771136 224.64 \r\nL 139.814773 224.64 \r\nL 139.814773 128.938874 \r\nL 136.771136 128.938874 \r\nz\r\n\" style=\"fill:#1f77b4;\"/>\r\n   </g>\r\n   <g id=\"patch_33\">\r\n    <path clip-path=\"url(#p3f88e2d687)\" d=\"M 139.814773 224.64 \r\nL 142.858409 224.64 \r\nL 142.858409 137.260711 \r\nL 139.814773 137.260711 \r\nz\r\n\" style=\"fill:#1f77b4;\"/>\r\n   </g>\r\n   <g id=\"patch_34\">\r\n    <path clip-path=\"url(#p3f88e2d687)\" d=\"M 142.858409 224.64 \r\nL 145.902045 224.64 \r\nL 145.902045 114.855765 \r\nL 142.858409 114.855765 \r\nz\r\n\" style=\"fill:#1f77b4;\"/>\r\n   </g>\r\n   <g id=\"patch_35\">\r\n    <path clip-path=\"url(#p3f88e2d687)\" d=\"M 145.902045 224.64 \r\nL 148.945682 224.64 \r\nL 148.945682 102.052939 \r\nL 145.902045 102.052939 \r\nz\r\n\" style=\"fill:#1f77b4;\"/>\r\n   </g>\r\n   <g id=\"patch_36\">\r\n    <path clip-path=\"url(#p3f88e2d687)\" d=\"M 148.945682 224.64 \r\nL 151.989318 224.64 \r\nL 151.989318 96.611738 \r\nL 148.945682 96.611738 \r\nz\r\n\" style=\"fill:#1f77b4;\"/>\r\n   </g>\r\n   <g id=\"patch_37\">\r\n    <path clip-path=\"url(#p3f88e2d687)\" d=\"M 151.989318 224.64 \r\nL 155.032955 224.64 \r\nL 155.032955 84.769123 \r\nL 151.989318 84.769123 \r\nz\r\n\" style=\"fill:#1f77b4;\"/>\r\n   </g>\r\n   <g id=\"patch_38\">\r\n    <path clip-path=\"url(#p3f88e2d687)\" d=\"M 155.032955 224.64 \r\nL 158.076591 224.64 \r\nL 158.076591 66.525096 \r\nL 155.032955 66.525096 \r\nz\r\n\" style=\"fill:#1f77b4;\"/>\r\n   </g>\r\n   <g id=\"patch_39\">\r\n    <path clip-path=\"url(#p3f88e2d687)\" d=\"M 158.076591 224.64 \r\nL 161.120227 224.64 \r\nL 161.120227 71.966297 \r\nL 158.076591 71.966297 \r\nz\r\n\" style=\"fill:#1f77b4;\"/>\r\n   </g>\r\n   <g id=\"patch_40\">\r\n    <path clip-path=\"url(#p3f88e2d687)\" d=\"M 161.120227 224.64 \r\nL 164.163864 224.64 \r\nL 164.163864 53.402199 \r\nL 161.120227 53.402199 \r\nz\r\n\" style=\"fill:#1f77b4;\"/>\r\n   </g>\r\n   <g id=\"patch_41\">\r\n    <path clip-path=\"url(#p3f88e2d687)\" d=\"M 164.163864 224.64 \r\nL 167.2075 224.64 \r\nL 167.2075 62.044107 \r\nL 164.163864 62.044107 \r\nz\r\n\" style=\"fill:#1f77b4;\"/>\r\n   </g>\r\n   <g id=\"patch_42\">\r\n    <path clip-path=\"url(#p3f88e2d687)\" d=\"M 167.2075 224.64 \r\nL 170.251136 224.64 \r\nL 170.251136 59.803612 \r\nL 167.2075 59.803612 \r\nz\r\n\" style=\"fill:#1f77b4;\"/>\r\n   </g>\r\n   <g id=\"patch_43\">\r\n    <path clip-path=\"url(#p3f88e2d687)\" d=\"M 170.251136 224.64 \r\nL 173.294773 224.64 \r\nL 173.294773 39.639161 \r\nL 170.251136 39.639161 \r\nz\r\n\" style=\"fill:#1f77b4;\"/>\r\n   </g>\r\n   <g id=\"patch_44\">\r\n    <path clip-path=\"url(#p3f88e2d687)\" d=\"M 173.294773 224.64 \r\nL 176.338409 224.64 \r\nL 176.338409 26.516264 \r\nL 173.294773 26.516264 \r\nz\r\n\" style=\"fill:#1f77b4;\"/>\r\n   </g>\r\n   <g id=\"patch_45\">\r\n    <path clip-path=\"url(#p3f88e2d687)\" d=\"M 176.338409 224.64 \r\nL 179.382045 224.64 \r\nL 179.382045 25.876123 \r\nL 176.338409 25.876123 \r\nz\r\n\" style=\"fill:#1f77b4;\"/>\r\n   </g>\r\n   <g id=\"patch_46\">\r\n    <path clip-path=\"url(#p3f88e2d687)\" d=\"M 179.382045 224.64 \r\nL 182.425682 224.64 \r\nL 182.425682 22.035275 \r\nL 179.382045 22.035275 \r\nz\r\n\" style=\"fill:#1f77b4;\"/>\r\n   </g>\r\n   <g id=\"patch_47\">\r\n    <path clip-path=\"url(#p3f88e2d687)\" d=\"M 182.425682 224.64 \r\nL 185.469318 224.64 \r\nL 185.469318 21.075063 \r\nL 182.425682 21.075063 \r\nz\r\n\" style=\"fill:#1f77b4;\"/>\r\n   </g>\r\n   <g id=\"patch_48\">\r\n    <path clip-path=\"url(#p3f88e2d687)\" d=\"M 185.469318 224.64 \r\nL 188.512955 224.64 \r\nL 188.512955 22.675416 \r\nL 185.469318 22.675416 \r\nz\r\n\" style=\"fill:#1f77b4;\"/>\r\n   </g>\r\n   <g id=\"patch_49\">\r\n    <path clip-path=\"url(#p3f88e2d687)\" d=\"M 188.512955 224.64 \r\nL 191.556591 224.64 \r\nL 191.556591 32.597607 \r\nL 188.512955 32.597607 \r\nz\r\n\" style=\"fill:#1f77b4;\"/>\r\n   </g>\r\n   <g id=\"patch_50\">\r\n    <path clip-path=\"url(#p3f88e2d687)\" d=\"M 191.556591 224.64 \r\nL 194.600227 224.64 \r\nL 194.600227 17.554286 \r\nL 191.556591 17.554286 \r\nz\r\n\" style=\"fill:#1f77b4;\"/>\r\n   </g>\r\n   <g id=\"patch_51\">\r\n    <path clip-path=\"url(#p3f88e2d687)\" d=\"M 194.600227 224.64 \r\nL 197.643864 224.64 \r\nL 197.643864 24.275769 \r\nL 194.600227 24.275769 \r\nz\r\n\" style=\"fill:#1f77b4;\"/>\r\n   </g>\r\n   <g id=\"patch_52\">\r\n    <path clip-path=\"url(#p3f88e2d687)\" d=\"M 197.643864 224.64 \r\nL 200.6875 224.64 \r\nL 200.6875 31.317324 \r\nL 197.643864 31.317324 \r\nz\r\n\" style=\"fill:#1f77b4;\"/>\r\n   </g>\r\n   <g id=\"patch_53\">\r\n    <path clip-path=\"url(#p3f88e2d687)\" d=\"M 200.6875 224.64 \r\nL 203.731136 224.64 \r\nL 203.731136 43.159938 \r\nL 200.6875 43.159938 \r\nz\r\n\" style=\"fill:#1f77b4;\"/>\r\n   </g>\r\n   <g id=\"patch_54\">\r\n    <path clip-path=\"url(#p3f88e2d687)\" d=\"M 203.731136 224.64 \r\nL 206.774773 224.64 \r\nL 206.774773 55.962764 \r\nL 203.731136 55.962764 \r\nz\r\n\" style=\"fill:#1f77b4;\"/>\r\n   </g>\r\n   <g id=\"patch_55\">\r\n    <path clip-path=\"url(#p3f88e2d687)\" d=\"M 206.774773 224.64 \r\nL 209.818409 224.64 \r\nL 209.818409 63.324389 \r\nL 206.774773 63.324389 \r\nz\r\n\" style=\"fill:#1f77b4;\"/>\r\n   </g>\r\n   <g id=\"patch_56\">\r\n    <path clip-path=\"url(#p3f88e2d687)\" d=\"M 209.818409 224.64 \r\nL 212.862045 224.64 \r\nL 212.862045 63.64446 \r\nL 209.818409 63.64446 \r\nz\r\n\" style=\"fill:#1f77b4;\"/>\r\n   </g>\r\n   <g id=\"patch_57\">\r\n    <path clip-path=\"url(#p3f88e2d687)\" d=\"M 212.862045 224.64 \r\nL 215.905682 224.64 \r\nL 215.905682 77.407498 \r\nL 212.862045 77.407498 \r\nz\r\n\" style=\"fill:#1f77b4;\"/>\r\n   </g>\r\n   <g id=\"patch_58\">\r\n    <path clip-path=\"url(#p3f88e2d687)\" d=\"M 215.905682 224.64 \r\nL 218.949318 224.64 \r\nL 218.949318 80.928276 \r\nL 215.905682 80.928276 \r\nz\r\n\" style=\"fill:#1f77b4;\"/>\r\n   </g>\r\n   <g id=\"patch_59\">\r\n    <path clip-path=\"url(#p3f88e2d687)\" d=\"M 218.949318 224.64 \r\nL 221.992955 224.64 \r\nL 221.992955 101.732868 \r\nL 218.949318 101.732868 \r\nz\r\n\" style=\"fill:#1f77b4;\"/>\r\n   </g>\r\n   <g id=\"patch_60\">\r\n    <path clip-path=\"url(#p3f88e2d687)\" d=\"M 221.992955 224.64 \r\nL 225.036591 224.64 \r\nL 225.036591 95.331455 \r\nL 221.992955 95.331455 \r\nz\r\n\" style=\"fill:#1f77b4;\"/>\r\n   </g>\r\n   <g id=\"patch_61\">\r\n    <path clip-path=\"url(#p3f88e2d687)\" d=\"M 225.036591 224.64 \r\nL 228.080227 224.64 \r\nL 228.080227 101.092727 \r\nL 225.036591 101.092727 \r\nz\r\n\" style=\"fill:#1f77b4;\"/>\r\n   </g>\r\n   <g id=\"patch_62\">\r\n    <path clip-path=\"url(#p3f88e2d687)\" d=\"M 228.080227 224.64 \r\nL 231.123864 224.64 \r\nL 231.123864 109.094493 \r\nL 228.080227 109.094493 \r\nz\r\n\" style=\"fill:#1f77b4;\"/>\r\n   </g>\r\n   <g id=\"patch_63\">\r\n    <path clip-path=\"url(#p3f88e2d687)\" d=\"M 231.123864 224.64 \r\nL 234.1675 224.64 \r\nL 234.1675 127.978662 \r\nL 231.123864 127.978662 \r\nz\r\n\" style=\"fill:#1f77b4;\"/>\r\n   </g>\r\n   <g id=\"patch_64\">\r\n    <path clip-path=\"url(#p3f88e2d687)\" d=\"M 234.1675 224.64 \r\nL 237.211136 224.64 \r\nL 237.211136 140.461418 \r\nL 234.1675 140.461418 \r\nz\r\n\" style=\"fill:#1f77b4;\"/>\r\n   </g>\r\n   <g id=\"patch_65\">\r\n    <path clip-path=\"url(#p3f88e2d687)\" d=\"M 237.211136 224.64 \r\nL 240.254773 224.64 \r\nL 240.254773 139.181135 \r\nL 237.211136 139.181135 \r\nz\r\n\" style=\"fill:#1f77b4;\"/>\r\n   </g>\r\n   <g id=\"patch_66\">\r\n    <path clip-path=\"url(#p3f88e2d687)\" d=\"M 240.254773 224.64 \r\nL 243.298409 224.64 \r\nL 243.298409 146.54276 \r\nL 240.254773 146.54276 \r\nz\r\n\" style=\"fill:#1f77b4;\"/>\r\n   </g>\r\n   <g id=\"patch_67\">\r\n    <path clip-path=\"url(#p3f88e2d687)\" d=\"M 243.298409 224.64 \r\nL 246.342045 224.64 \r\nL 246.342045 157.745233 \r\nL 243.298409 157.745233 \r\nz\r\n\" style=\"fill:#1f77b4;\"/>\r\n   </g>\r\n   <g id=\"patch_68\">\r\n    <path clip-path=\"url(#p3f88e2d687)\" d=\"M 246.342045 224.64 \r\nL 249.385682 224.64 \r\nL 249.385682 164.786787 \r\nL 246.342045 164.786787 \r\nz\r\n\" style=\"fill:#1f77b4;\"/>\r\n   </g>\r\n   <g id=\"patch_69\">\r\n    <path clip-path=\"url(#p3f88e2d687)\" d=\"M 249.385682 224.64 \r\nL 252.429318 224.64 \r\nL 252.429318 177.589614 \r\nL 249.385682 177.589614 \r\nz\r\n\" style=\"fill:#1f77b4;\"/>\r\n   </g>\r\n   <g id=\"patch_70\">\r\n    <path clip-path=\"url(#p3f88e2d687)\" d=\"M 252.429318 224.64 \r\nL 255.472955 224.64 \r\nL 255.472955 173.428695 \r\nL 252.429318 173.428695 \r\nz\r\n\" style=\"fill:#1f77b4;\"/>\r\n   </g>\r\n   <g id=\"patch_71\">\r\n    <path clip-path=\"url(#p3f88e2d687)\" d=\"M 255.472955 224.64 \r\nL 258.516591 224.64 \r\nL 258.516591 179.830108 \r\nL 255.472955 179.830108 \r\nz\r\n\" style=\"fill:#1f77b4;\"/>\r\n   </g>\r\n   <g id=\"patch_72\">\r\n    <path clip-path=\"url(#p3f88e2d687)\" d=\"M 258.516591 224.64 \r\nL 261.560227 224.64 \r\nL 261.560227 188.151945 \r\nL 258.516591 188.151945 \r\nz\r\n\" style=\"fill:#1f77b4;\"/>\r\n   </g>\r\n   <g id=\"patch_73\">\r\n    <path clip-path=\"url(#p3f88e2d687)\" d=\"M 261.560227 224.64 \r\nL 264.603864 224.64 \r\nL 264.603864 193.913217 \r\nL 261.560227 193.913217 \r\nz\r\n\" style=\"fill:#1f77b4;\"/>\r\n   </g>\r\n   <g id=\"patch_74\">\r\n    <path clip-path=\"url(#p3f88e2d687)\" d=\"M 264.603864 224.64 \r\nL 267.6475 224.64 \r\nL 267.6475 194.873429 \r\nL 264.603864 194.873429 \r\nz\r\n\" style=\"fill:#1f77b4;\"/>\r\n   </g>\r\n   <g id=\"patch_75\">\r\n    <path clip-path=\"url(#p3f88e2d687)\" d=\"M 267.6475 224.64 \r\nL 270.691136 224.64 \r\nL 270.691136 198.074136 \r\nL 267.6475 198.074136 \r\nz\r\n\" style=\"fill:#1f77b4;\"/>\r\n   </g>\r\n   <g id=\"patch_76\">\r\n    <path clip-path=\"url(#p3f88e2d687)\" d=\"M 270.691136 224.64 \r\nL 273.734773 224.64 \r\nL 273.734773 206.075902 \r\nL 270.691136 206.075902 \r\nz\r\n\" style=\"fill:#1f77b4;\"/>\r\n   </g>\r\n   <g id=\"patch_77\">\r\n    <path clip-path=\"url(#p3f88e2d687)\" d=\"M 273.734773 224.64 \r\nL 276.778409 224.64 \r\nL 276.778409 208.316397 \r\nL 273.734773 208.316397 \r\nz\r\n\" style=\"fill:#1f77b4;\"/>\r\n   </g>\r\n   <g id=\"patch_78\">\r\n    <path clip-path=\"url(#p3f88e2d687)\" d=\"M 276.778409 224.64 \r\nL 279.822045 224.64 \r\nL 279.822045 209.596679 \r\nL 276.778409 209.596679 \r\nz\r\n\" style=\"fill:#1f77b4;\"/>\r\n   </g>\r\n   <g id=\"patch_79\">\r\n    <path clip-path=\"url(#p3f88e2d687)\" d=\"M 279.822045 224.64 \r\nL 282.865682 224.64 \r\nL 282.865682 211.837174 \r\nL 279.822045 211.837174 \r\nz\r\n\" style=\"fill:#1f77b4;\"/>\r\n   </g>\r\n   <g id=\"patch_80\">\r\n    <path clip-path=\"url(#p3f88e2d687)\" d=\"M 282.865682 224.64 \r\nL 285.909318 224.64 \r\nL 285.909318 215.357951 \r\nL 282.865682 215.357951 \r\nz\r\n\" style=\"fill:#1f77b4;\"/>\r\n   </g>\r\n   <g id=\"patch_81\">\r\n    <path clip-path=\"url(#p3f88e2d687)\" d=\"M 285.909318 224.64 \r\nL 288.952955 224.64 \r\nL 288.952955 214.077668 \r\nL 285.909318 214.077668 \r\nz\r\n\" style=\"fill:#1f77b4;\"/>\r\n   </g>\r\n   <g id=\"patch_82\">\r\n    <path clip-path=\"url(#p3f88e2d687)\" d=\"M 288.952955 224.64 \r\nL 291.996591 224.64 \r\nL 291.996591 215.998092 \r\nL 288.952955 215.998092 \r\nz\r\n\" style=\"fill:#1f77b4;\"/>\r\n   </g>\r\n   <g id=\"patch_83\">\r\n    <path clip-path=\"url(#p3f88e2d687)\" d=\"M 291.996591 224.64 \r\nL 295.040227 224.64 \r\nL 295.040227 216.638234 \r\nL 291.996591 216.638234 \r\nz\r\n\" style=\"fill:#1f77b4;\"/>\r\n   </g>\r\n   <g id=\"patch_84\">\r\n    <path clip-path=\"url(#p3f88e2d687)\" d=\"M 295.040227 224.64 \r\nL 298.083864 224.64 \r\nL 298.083864 219.83894 \r\nL 295.040227 219.83894 \r\nz\r\n\" style=\"fill:#1f77b4;\"/>\r\n   </g>\r\n   <g id=\"patch_85\">\r\n    <path clip-path=\"url(#p3f88e2d687)\" d=\"M 298.083864 224.64 \r\nL 301.1275 224.64 \r\nL 301.1275 219.51887 \r\nL 298.083864 219.51887 \r\nz\r\n\" style=\"fill:#1f77b4;\"/>\r\n   </g>\r\n   <g id=\"patch_86\">\r\n    <path clip-path=\"url(#p3f88e2d687)\" d=\"M 301.1275 224.64 \r\nL 304.171136 224.64 \r\nL 304.171136 221.759364 \r\nL 301.1275 221.759364 \r\nz\r\n\" style=\"fill:#1f77b4;\"/>\r\n   </g>\r\n   <g id=\"patch_87\">\r\n    <path clip-path=\"url(#p3f88e2d687)\" d=\"M 304.171136 224.64 \r\nL 307.214773 224.64 \r\nL 307.214773 222.719576 \r\nL 304.171136 222.719576 \r\nz\r\n\" style=\"fill:#1f77b4;\"/>\r\n   </g>\r\n   <g id=\"patch_88\">\r\n    <path clip-path=\"url(#p3f88e2d687)\" d=\"M 307.214773 224.64 \r\nL 310.258409 224.64 \r\nL 310.258409 221.119223 \r\nL 307.214773 221.119223 \r\nz\r\n\" style=\"fill:#1f77b4;\"/>\r\n   </g>\r\n   <g id=\"patch_89\">\r\n    <path clip-path=\"url(#p3f88e2d687)\" d=\"M 310.258409 224.64 \r\nL 313.302045 224.64 \r\nL 313.302045 223.359717 \r\nL 310.258409 223.359717 \r\nz\r\n\" style=\"fill:#1f77b4;\"/>\r\n   </g>\r\n   <g id=\"patch_90\">\r\n    <path clip-path=\"url(#p3f88e2d687)\" d=\"M 313.302045 224.64 \r\nL 316.345682 224.64 \r\nL 316.345682 222.719576 \r\nL 313.302045 222.719576 \r\nz\r\n\" style=\"fill:#1f77b4;\"/>\r\n   </g>\r\n   <g id=\"patch_91\">\r\n    <path clip-path=\"url(#p3f88e2d687)\" d=\"M 316.345682 224.64 \r\nL 319.389318 224.64 \r\nL 319.389318 223.679788 \r\nL 316.345682 223.679788 \r\nz\r\n\" style=\"fill:#1f77b4;\"/>\r\n   </g>\r\n   <g id=\"patch_92\">\r\n    <path clip-path=\"url(#p3f88e2d687)\" d=\"M 319.389318 224.64 \r\nL 322.432955 224.64 \r\nL 322.432955 222.079435 \r\nL 319.389318 222.079435 \r\nz\r\n\" style=\"fill:#1f77b4;\"/>\r\n   </g>\r\n   <g id=\"patch_93\">\r\n    <path clip-path=\"url(#p3f88e2d687)\" d=\"M 322.432955 224.64 \r\nL 325.476591 224.64 \r\nL 325.476591 223.999859 \r\nL 322.432955 223.999859 \r\nz\r\n\" style=\"fill:#1f77b4;\"/>\r\n   </g>\r\n   <g id=\"patch_94\">\r\n    <path clip-path=\"url(#p3f88e2d687)\" d=\"M 325.476591 224.64 \r\nL 328.520227 224.64 \r\nL 328.520227 223.679788 \r\nL 325.476591 223.679788 \r\nz\r\n\" style=\"fill:#1f77b4;\"/>\r\n   </g>\r\n   <g id=\"patch_95\">\r\n    <path clip-path=\"url(#p3f88e2d687)\" d=\"M 328.520227 224.64 \r\nL 331.563864 224.64 \r\nL 331.563864 224.64 \r\nL 328.520227 224.64 \r\nz\r\n\" style=\"fill:#1f77b4;\"/>\r\n   </g>\r\n   <g id=\"patch_96\">\r\n    <path clip-path=\"url(#p3f88e2d687)\" d=\"M 331.563864 224.64 \r\nL 334.6075 224.64 \r\nL 334.6075 224.319929 \r\nL 331.563864 224.319929 \r\nz\r\n\" style=\"fill:#1f77b4;\"/>\r\n   </g>\r\n   <g id=\"patch_97\">\r\n    <path clip-path=\"url(#p3f88e2d687)\" d=\"M 334.6075 224.64 \r\nL 337.651136 224.64 \r\nL 337.651136 224.319929 \r\nL 334.6075 224.319929 \r\nz\r\n\" style=\"fill:#1f77b4;\"/>\r\n   </g>\r\n   <g id=\"patch_98\">\r\n    <path clip-path=\"url(#p3f88e2d687)\" d=\"M 337.651136 224.64 \r\nL 340.694773 224.64 \r\nL 340.694773 224.64 \r\nL 337.651136 224.64 \r\nz\r\n\" style=\"fill:#1f77b4;\"/>\r\n   </g>\r\n   <g id=\"patch_99\">\r\n    <path clip-path=\"url(#p3f88e2d687)\" d=\"M 340.694773 224.64 \r\nL 343.738409 224.64 \r\nL 343.738409 224.319929 \r\nL 340.694773 224.319929 \r\nz\r\n\" style=\"fill:#1f77b4;\"/>\r\n   </g>\r\n   <g id=\"patch_100\">\r\n    <path clip-path=\"url(#p3f88e2d687)\" d=\"M 343.738409 224.64 \r\nL 346.782045 224.64 \r\nL 346.782045 224.64 \r\nL 343.738409 224.64 \r\nz\r\n\" style=\"fill:#1f77b4;\"/>\r\n   </g>\r\n   <g id=\"patch_101\">\r\n    <path clip-path=\"url(#p3f88e2d687)\" d=\"M 346.782045 224.64 \r\nL 349.825682 224.64 \r\nL 349.825682 224.64 \r\nL 346.782045 224.64 \r\nz\r\n\" style=\"fill:#1f77b4;\"/>\r\n   </g>\r\n   <g id=\"patch_102\">\r\n    <path clip-path=\"url(#p3f88e2d687)\" d=\"M 349.825682 224.64 \r\nL 352.869318 224.64 \r\nL 352.869318 224.319929 \r\nL 349.825682 224.319929 \r\nz\r\n\" style=\"fill:#1f77b4;\"/>\r\n   </g>\r\n   <g id=\"matplotlib.axis_1\">\r\n    <g id=\"xtick_1\">\r\n     <g id=\"line2d_1\">\r\n      <defs>\r\n       <path d=\"M 0 0 \r\nL 0 3.5 \r\n\" id=\"m4becf10304\" style=\"stroke:#000000;stroke-width:0.8;\"/>\r\n      </defs>\r\n      <g>\r\n       <use style=\"stroke:#000000;stroke-width:0.8;\" x=\"59.461073\" xlink:href=\"#m4becf10304\" y=\"224.64\"/>\r\n      </g>\r\n     </g>\r\n     <g id=\"text_1\">\r\n      <!-- −15 -->\r\n      <g transform=\"translate(48.90873 239.238438)scale(0.1 -0.1)\">\r\n       <defs>\r\n        <path d=\"M 678 2272 \r\nL 4684 2272 \r\nL 4684 1741 \r\nL 678 1741 \r\nL 678 2272 \r\nz\r\n\" id=\"DejaVuSans-2212\" transform=\"scale(0.015625)\"/>\r\n        <path d=\"M 794 531 \r\nL 1825 531 \r\nL 1825 4091 \r\nL 703 3866 \r\nL 703 4441 \r\nL 1819 4666 \r\nL 2450 4666 \r\nL 2450 531 \r\nL 3481 531 \r\nL 3481 0 \r\nL 794 0 \r\nL 794 531 \r\nz\r\n\" id=\"DejaVuSans-31\" transform=\"scale(0.015625)\"/>\r\n        <path d=\"M 691 4666 \r\nL 3169 4666 \r\nL 3169 4134 \r\nL 1269 4134 \r\nL 1269 2991 \r\nQ 1406 3038 1543 3061 \r\nQ 1681 3084 1819 3084 \r\nQ 2600 3084 3056 2656 \r\nQ 3513 2228 3513 1497 \r\nQ 3513 744 3044 326 \r\nQ 2575 -91 1722 -91 \r\nQ 1428 -91 1123 -41 \r\nQ 819 9 494 109 \r\nL 494 744 \r\nQ 775 591 1075 516 \r\nQ 1375 441 1709 441 \r\nQ 2250 441 2565 725 \r\nQ 2881 1009 2881 1497 \r\nQ 2881 1984 2565 2268 \r\nQ 2250 2553 1709 2553 \r\nQ 1456 2553 1204 2497 \r\nQ 953 2441 691 2322 \r\nL 691 4666 \r\nz\r\n\" id=\"DejaVuSans-35\" transform=\"scale(0.015625)\"/>\r\n       </defs>\r\n       <use xlink:href=\"#DejaVuSans-2212\"/>\r\n       <use x=\"83.789062\" xlink:href=\"#DejaVuSans-31\"/>\r\n       <use x=\"147.412109\" xlink:href=\"#DejaVuSans-35\"/>\r\n      </g>\r\n     </g>\r\n    </g>\r\n    <g id=\"xtick_2\">\r\n     <g id=\"line2d_2\">\r\n      <g>\r\n       <use style=\"stroke:#000000;stroke-width:0.8;\" x=\"99.389618\" xlink:href=\"#m4becf10304\" y=\"224.64\"/>\r\n      </g>\r\n     </g>\r\n     <g id=\"text_2\">\r\n      <!-- −10 -->\r\n      <g transform=\"translate(88.837275 239.238438)scale(0.1 -0.1)\">\r\n       <defs>\r\n        <path d=\"M 2034 4250 \r\nQ 1547 4250 1301 3770 \r\nQ 1056 3291 1056 2328 \r\nQ 1056 1369 1301 889 \r\nQ 1547 409 2034 409 \r\nQ 2525 409 2770 889 \r\nQ 3016 1369 3016 2328 \r\nQ 3016 3291 2770 3770 \r\nQ 2525 4250 2034 4250 \r\nz\r\nM 2034 4750 \r\nQ 2819 4750 3233 4129 \r\nQ 3647 3509 3647 2328 \r\nQ 3647 1150 3233 529 \r\nQ 2819 -91 2034 -91 \r\nQ 1250 -91 836 529 \r\nQ 422 1150 422 2328 \r\nQ 422 3509 836 4129 \r\nQ 1250 4750 2034 4750 \r\nz\r\n\" id=\"DejaVuSans-30\" transform=\"scale(0.015625)\"/>\r\n       </defs>\r\n       <use xlink:href=\"#DejaVuSans-2212\"/>\r\n       <use x=\"83.789062\" xlink:href=\"#DejaVuSans-31\"/>\r\n       <use x=\"147.412109\" xlink:href=\"#DejaVuSans-30\"/>\r\n      </g>\r\n     </g>\r\n    </g>\r\n    <g id=\"xtick_3\">\r\n     <g id=\"line2d_3\">\r\n      <g>\r\n       <use style=\"stroke:#000000;stroke-width:0.8;\" x=\"139.318164\" xlink:href=\"#m4becf10304\" y=\"224.64\"/>\r\n      </g>\r\n     </g>\r\n     <g id=\"text_3\">\r\n      <!-- −5 -->\r\n      <g transform=\"translate(131.94707 239.238438)scale(0.1 -0.1)\">\r\n       <use xlink:href=\"#DejaVuSans-2212\"/>\r\n       <use x=\"83.789062\" xlink:href=\"#DejaVuSans-35\"/>\r\n      </g>\r\n     </g>\r\n    </g>\r\n    <g id=\"xtick_4\">\r\n     <g id=\"line2d_4\">\r\n      <g>\r\n       <use style=\"stroke:#000000;stroke-width:0.8;\" x=\"179.246709\" xlink:href=\"#m4becf10304\" y=\"224.64\"/>\r\n      </g>\r\n     </g>\r\n     <g id=\"text_4\">\r\n      <!-- 0 -->\r\n      <g transform=\"translate(176.065459 239.238438)scale(0.1 -0.1)\">\r\n       <use xlink:href=\"#DejaVuSans-30\"/>\r\n      </g>\r\n     </g>\r\n    </g>\r\n    <g id=\"xtick_5\">\r\n     <g id=\"line2d_5\">\r\n      <g>\r\n       <use style=\"stroke:#000000;stroke-width:0.8;\" x=\"219.175254\" xlink:href=\"#m4becf10304\" y=\"224.64\"/>\r\n      </g>\r\n     </g>\r\n     <g id=\"text_5\">\r\n      <!-- 5 -->\r\n      <g transform=\"translate(215.994004 239.238438)scale(0.1 -0.1)\">\r\n       <use xlink:href=\"#DejaVuSans-35\"/>\r\n      </g>\r\n     </g>\r\n    </g>\r\n    <g id=\"xtick_6\">\r\n     <g id=\"line2d_6\">\r\n      <g>\r\n       <use style=\"stroke:#000000;stroke-width:0.8;\" x=\"259.103799\" xlink:href=\"#m4becf10304\" y=\"224.64\"/>\r\n      </g>\r\n     </g>\r\n     <g id=\"text_6\">\r\n      <!-- 10 -->\r\n      <g transform=\"translate(252.741299 239.238438)scale(0.1 -0.1)\">\r\n       <use xlink:href=\"#DejaVuSans-31\"/>\r\n       <use x=\"63.623047\" xlink:href=\"#DejaVuSans-30\"/>\r\n      </g>\r\n     </g>\r\n    </g>\r\n    <g id=\"xtick_7\">\r\n     <g id=\"line2d_7\">\r\n      <g>\r\n       <use style=\"stroke:#000000;stroke-width:0.8;\" x=\"299.032344\" xlink:href=\"#m4becf10304\" y=\"224.64\"/>\r\n      </g>\r\n     </g>\r\n     <g id=\"text_7\">\r\n      <!-- 15 -->\r\n      <g transform=\"translate(292.669844 239.238438)scale(0.1 -0.1)\">\r\n       <use xlink:href=\"#DejaVuSans-31\"/>\r\n       <use x=\"63.623047\" xlink:href=\"#DejaVuSans-35\"/>\r\n      </g>\r\n     </g>\r\n    </g>\r\n    <g id=\"xtick_8\">\r\n     <g id=\"line2d_8\">\r\n      <g>\r\n       <use style=\"stroke:#000000;stroke-width:0.8;\" x=\"338.960889\" xlink:href=\"#m4becf10304\" y=\"224.64\"/>\r\n      </g>\r\n     </g>\r\n     <g id=\"text_8\">\r\n      <!-- 20 -->\r\n      <g transform=\"translate(332.598389 239.238438)scale(0.1 -0.1)\">\r\n       <defs>\r\n        <path d=\"M 1228 531 \r\nL 3431 531 \r\nL 3431 0 \r\nL 469 0 \r\nL 469 531 \r\nQ 828 903 1448 1529 \r\nQ 2069 2156 2228 2338 \r\nQ 2531 2678 2651 2914 \r\nQ 2772 3150 2772 3378 \r\nQ 2772 3750 2511 3984 \r\nQ 2250 4219 1831 4219 \r\nQ 1534 4219 1204 4116 \r\nQ 875 4013 500 3803 \r\nL 500 4441 \r\nQ 881 4594 1212 4672 \r\nQ 1544 4750 1819 4750 \r\nQ 2544 4750 2975 4387 \r\nQ 3406 4025 3406 3419 \r\nQ 3406 3131 3298 2873 \r\nQ 3191 2616 2906 2266 \r\nQ 2828 2175 2409 1742 \r\nQ 1991 1309 1228 531 \r\nz\r\n\" id=\"DejaVuSans-32\" transform=\"scale(0.015625)\"/>\r\n       </defs>\r\n       <use xlink:href=\"#DejaVuSans-32\"/>\r\n       <use x=\"63.623047\" xlink:href=\"#DejaVuSans-30\"/>\r\n      </g>\r\n     </g>\r\n    </g>\r\n   </g>\r\n   <g id=\"matplotlib.axis_2\">\r\n    <g id=\"ytick_1\">\r\n     <g id=\"line2d_9\">\r\n      <defs>\r\n       <path d=\"M 0 0 \r\nL -3.5 0 \r\n\" id=\"m8cd15527df\" style=\"stroke:#000000;stroke-width:0.8;\"/>\r\n      </defs>\r\n      <g>\r\n       <use style=\"stroke:#000000;stroke-width:0.8;\" x=\"33.2875\" xlink:href=\"#m8cd15527df\" y=\"224.64\"/>\r\n      </g>\r\n     </g>\r\n     <g id=\"text_9\">\r\n      <!-- 0 -->\r\n      <g transform=\"translate(19.925 228.439219)scale(0.1 -0.1)\">\r\n       <use xlink:href=\"#DejaVuSans-30\"/>\r\n      </g>\r\n     </g>\r\n    </g>\r\n    <g id=\"ytick_2\">\r\n     <g id=\"line2d_10\">\r\n      <g>\r\n       <use style=\"stroke:#000000;stroke-width:0.8;\" x=\"33.2875\" xlink:href=\"#m8cd15527df\" y=\"192.632934\"/>\r\n      </g>\r\n     </g>\r\n     <g id=\"text_10\">\r\n      <!-- 100 -->\r\n      <g transform=\"translate(7.2 196.432153)scale(0.1 -0.1)\">\r\n       <use xlink:href=\"#DejaVuSans-31\"/>\r\n       <use x=\"63.623047\" xlink:href=\"#DejaVuSans-30\"/>\r\n       <use x=\"127.246094\" xlink:href=\"#DejaVuSans-30\"/>\r\n      </g>\r\n     </g>\r\n    </g>\r\n    <g id=\"ytick_3\">\r\n     <g id=\"line2d_11\">\r\n      <g>\r\n       <use style=\"stroke:#000000;stroke-width:0.8;\" x=\"33.2875\" xlink:href=\"#m8cd15527df\" y=\"160.625869\"/>\r\n      </g>\r\n     </g>\r\n     <g id=\"text_11\">\r\n      <!-- 200 -->\r\n      <g transform=\"translate(7.2 164.425088)scale(0.1 -0.1)\">\r\n       <use xlink:href=\"#DejaVuSans-32\"/>\r\n       <use x=\"63.623047\" xlink:href=\"#DejaVuSans-30\"/>\r\n       <use x=\"127.246094\" xlink:href=\"#DejaVuSans-30\"/>\r\n      </g>\r\n     </g>\r\n    </g>\r\n    <g id=\"ytick_4\">\r\n     <g id=\"line2d_12\">\r\n      <g>\r\n       <use style=\"stroke:#000000;stroke-width:0.8;\" x=\"33.2875\" xlink:href=\"#m8cd15527df\" y=\"128.618803\"/>\r\n      </g>\r\n     </g>\r\n     <g id=\"text_12\">\r\n      <!-- 300 -->\r\n      <g transform=\"translate(7.2 132.418022)scale(0.1 -0.1)\">\r\n       <defs>\r\n        <path d=\"M 2597 2516 \r\nQ 3050 2419 3304 2112 \r\nQ 3559 1806 3559 1356 \r\nQ 3559 666 3084 287 \r\nQ 2609 -91 1734 -91 \r\nQ 1441 -91 1130 -33 \r\nQ 819 25 488 141 \r\nL 488 750 \r\nQ 750 597 1062 519 \r\nQ 1375 441 1716 441 \r\nQ 2309 441 2620 675 \r\nQ 2931 909 2931 1356 \r\nQ 2931 1769 2642 2001 \r\nQ 2353 2234 1838 2234 \r\nL 1294 2234 \r\nL 1294 2753 \r\nL 1863 2753 \r\nQ 2328 2753 2575 2939 \r\nQ 2822 3125 2822 3475 \r\nQ 2822 3834 2567 4026 \r\nQ 2313 4219 1838 4219 \r\nQ 1578 4219 1281 4162 \r\nQ 984 4106 628 3988 \r\nL 628 4550 \r\nQ 988 4650 1302 4700 \r\nQ 1616 4750 1894 4750 \r\nQ 2613 4750 3031 4423 \r\nQ 3450 4097 3450 3541 \r\nQ 3450 3153 3228 2886 \r\nQ 3006 2619 2597 2516 \r\nz\r\n\" id=\"DejaVuSans-33\" transform=\"scale(0.015625)\"/>\r\n       </defs>\r\n       <use xlink:href=\"#DejaVuSans-33\"/>\r\n       <use x=\"63.623047\" xlink:href=\"#DejaVuSans-30\"/>\r\n       <use x=\"127.246094\" xlink:href=\"#DejaVuSans-30\"/>\r\n      </g>\r\n     </g>\r\n    </g>\r\n    <g id=\"ytick_5\">\r\n     <g id=\"line2d_13\">\r\n      <g>\r\n       <use style=\"stroke:#000000;stroke-width:0.8;\" x=\"33.2875\" xlink:href=\"#m8cd15527df\" y=\"96.611738\"/>\r\n      </g>\r\n     </g>\r\n     <g id=\"text_13\">\r\n      <!-- 400 -->\r\n      <g transform=\"translate(7.2 100.410956)scale(0.1 -0.1)\">\r\n       <defs>\r\n        <path d=\"M 2419 4116 \r\nL 825 1625 \r\nL 2419 1625 \r\nL 2419 4116 \r\nz\r\nM 2253 4666 \r\nL 3047 4666 \r\nL 3047 1625 \r\nL 3713 1625 \r\nL 3713 1100 \r\nL 3047 1100 \r\nL 3047 0 \r\nL 2419 0 \r\nL 2419 1100 \r\nL 313 1100 \r\nL 313 1709 \r\nL 2253 4666 \r\nz\r\n\" id=\"DejaVuSans-34\" transform=\"scale(0.015625)\"/>\r\n       </defs>\r\n       <use xlink:href=\"#DejaVuSans-34\"/>\r\n       <use x=\"63.623047\" xlink:href=\"#DejaVuSans-30\"/>\r\n       <use x=\"127.246094\" xlink:href=\"#DejaVuSans-30\"/>\r\n      </g>\r\n     </g>\r\n    </g>\r\n    <g id=\"ytick_6\">\r\n     <g id=\"line2d_14\">\r\n      <g>\r\n       <use style=\"stroke:#000000;stroke-width:0.8;\" x=\"33.2875\" xlink:href=\"#m8cd15527df\" y=\"64.604672\"/>\r\n      </g>\r\n     </g>\r\n     <g id=\"text_14\">\r\n      <!-- 500 -->\r\n      <g transform=\"translate(7.2 68.403891)scale(0.1 -0.1)\">\r\n       <use xlink:href=\"#DejaVuSans-35\"/>\r\n       <use x=\"63.623047\" xlink:href=\"#DejaVuSans-30\"/>\r\n       <use x=\"127.246094\" xlink:href=\"#DejaVuSans-30\"/>\r\n      </g>\r\n     </g>\r\n    </g>\r\n    <g id=\"ytick_7\">\r\n     <g id=\"line2d_15\">\r\n      <g>\r\n       <use style=\"stroke:#000000;stroke-width:0.8;\" x=\"33.2875\" xlink:href=\"#m8cd15527df\" y=\"32.597607\"/>\r\n      </g>\r\n     </g>\r\n     <g id=\"text_15\">\r\n      <!-- 600 -->\r\n      <g transform=\"translate(7.2 36.396825)scale(0.1 -0.1)\">\r\n       <defs>\r\n        <path d=\"M 2113 2584 \r\nQ 1688 2584 1439 2293 \r\nQ 1191 2003 1191 1497 \r\nQ 1191 994 1439 701 \r\nQ 1688 409 2113 409 \r\nQ 2538 409 2786 701 \r\nQ 3034 994 3034 1497 \r\nQ 3034 2003 2786 2293 \r\nQ 2538 2584 2113 2584 \r\nz\r\nM 3366 4563 \r\nL 3366 3988 \r\nQ 3128 4100 2886 4159 \r\nQ 2644 4219 2406 4219 \r\nQ 1781 4219 1451 3797 \r\nQ 1122 3375 1075 2522 \r\nQ 1259 2794 1537 2939 \r\nQ 1816 3084 2150 3084 \r\nQ 2853 3084 3261 2657 \r\nQ 3669 2231 3669 1497 \r\nQ 3669 778 3244 343 \r\nQ 2819 -91 2113 -91 \r\nQ 1303 -91 875 529 \r\nQ 447 1150 447 2328 \r\nQ 447 3434 972 4092 \r\nQ 1497 4750 2381 4750 \r\nQ 2619 4750 2861 4703 \r\nQ 3103 4656 3366 4563 \r\nz\r\n\" id=\"DejaVuSans-36\" transform=\"scale(0.015625)\"/>\r\n       </defs>\r\n       <use xlink:href=\"#DejaVuSans-36\"/>\r\n       <use x=\"63.623047\" xlink:href=\"#DejaVuSans-30\"/>\r\n       <use x=\"127.246094\" xlink:href=\"#DejaVuSans-30\"/>\r\n      </g>\r\n     </g>\r\n    </g>\r\n   </g>\r\n   <g id=\"patch_103\">\r\n    <path d=\"M 33.2875 224.64 \r\nL 33.2875 7.2 \r\n\" style=\"fill:none;stroke:#000000;stroke-linecap:square;stroke-linejoin:miter;stroke-width:0.8;\"/>\r\n   </g>\r\n   <g id=\"patch_104\">\r\n    <path d=\"M 368.0875 224.64 \r\nL 368.0875 7.2 \r\n\" style=\"fill:none;stroke:#000000;stroke-linecap:square;stroke-linejoin:miter;stroke-width:0.8;\"/>\r\n   </g>\r\n   <g id=\"patch_105\">\r\n    <path d=\"M 33.2875 224.64 \r\nL 368.0875 224.64 \r\n\" style=\"fill:none;stroke:#000000;stroke-linecap:square;stroke-linejoin:miter;stroke-width:0.8;\"/>\r\n   </g>\r\n   <g id=\"patch_106\">\r\n    <path d=\"M 33.2875 7.2 \r\nL 368.0875 7.2 \r\n\" style=\"fill:none;stroke:#000000;stroke-linecap:square;stroke-linejoin:miter;stroke-width:0.8;\"/>\r\n   </g>\r\n  </g>\r\n </g>\r\n <defs>\r\n  <clipPath id=\"p3f88e2d687\">\r\n   <rect height=\"217.44\" width=\"334.8\" x=\"33.2875\" y=\"7.2\"/>\r\n  </clipPath>\r\n </defs>\r\n</svg>\r\n",
      "image/png": "[encoded data removed]"
     },
     "metadata": {
      "needs_background": "light"
     }
    }
   ],
   "source": [
    "# Semilla aleatoria \n",
    "np.random.seed(seed=1234) # la clásica 123\n",
    "\n",
    "\n",
    "# Parámetros principales\n",
    "N, T, β1, β2 = 1000, 20, -1, 3\n",
    "\n",
    "\n",
    "# Características de observaciones simuladas\n",
    "X1 = np.random.normal(0, 4, size=N*T) # Arreglo de normal(0,4) de N x T\n",
    "\n",
    "\n",
    "# Dummy género\n",
    "D_i = np.random.choice([0,1], size=N, p=[0.6, 0.4])\n",
    "D = np.repeat(D_i, T) # Repito cada valor para cada T de los individuos\n",
    "\n",
    "\n",
    "# Shock aleatorio\n",
    "u = np.random.uniform(-1,1,size=N*T)\n",
    "\n",
    "\n",
    "# Efecto fijo\n",
    "α_i = np.zeros(N)\n",
    "α_i[D_i == 0] = np.random.normal(0,2,np.sum(D_i == 0)) # Hombres\n",
    "α_i[D_i == 1] = np.random.normal(0,3,np.sum(D_i == 1)) # Mujeres\n",
    "α = np.repeat(α_i, T) # Repito cada valor para cada T de los individuos\n",
    "\n",
    "\n",
    "# # Matriz de 1's para los α_i (D de la clase)\n",
    "# D = np.zeros((N*T, N), dtype=int)#.reshape(-N//100,T//10)\n",
    "# for i in range(N):\n",
    "#     D[T*i:T*(i+1),i] += 1\n",
    "\n",
    "\n",
    "# Modelo (Matricial)\n",
    "Y = β1 * X1 + β2 * D + α + u\n",
    "\n",
    "\n",
    "# Visualización porque sí\n",
    "plt.hist(Y, bins=100)\n",
    "plt.show()"
   ]
  },
  {
   "source": [
    "---\n",
    "\n",
    "### Parte 1\n",
    "\n",
    "---\n",
    "\n",
    "![caption](imgs/p1.png)\n"
   ],
   "cell_type": "markdown",
   "metadata": {}
  },
  {
   "source": [
    "Creamos algunas funciones auxiliares para facilitar la notación de álgebra lineal:"
   ],
   "cell_type": "markdown",
   "metadata": {}
  },
  {
   "cell_type": "code",
   "execution_count": 8,
   "metadata": {},
   "outputs": [],
   "source": [
    "# Trasponer, Inversa, P. Punto, Diagonal\n",
    "Transpose, Inverse, Dot, Diag = lambda A: np.transpose(A), lambda A: np.linalg.inv(A), lambda A, B: np.dot(A, B), lambda A: np.diag(A)\n",
    "\n",
    "# Eigen values\n",
    "Eigen = lambda A: np.linalg.eig(A)[0]"
   ]
  },
  {
   "source": [
    "Primero juntamos las variables explicativas $X_1$ y $D$ en una sola matriz, además de un incercepto (así ignoramos el efecto por individuo y lo juntamos en un sólo parámetro). Luego, podemos ocupar los resultados conodicos de OLS clásico:"
   ],
   "cell_type": "markdown",
   "metadata": {}
  },
  {
   "cell_type": "code",
   "execution_count": 10,
   "metadata": {},
   "outputs": [
    {
     "output_type": "stream",
     "name": "stdout",
     "text": [
      "Coeficientes de OLS:\nα, β1, β1: [-0.02594555 -1.00218946  3.09579399]\n------------------------------------------------------------\nMatriz de var-cov:\n[[ 4.84823773e-04 -5.17479334e-08 -4.84820073e-04]\n [-5.17479334e-08  1.93879204e-05 -1.33439699e-06]\n [-4.84820073e-04 -1.33439699e-06  1.32113717e-03]]\n"
     ]
    }
   ],
   "source": [
    "# Número de variables explicativas\n",
    "K = 3\n",
    "\n",
    "# Matriz de variables explicativas \n",
    "X = np.zeros((N*T, K)) # Incluye X y D\n",
    "X[:,0] += 1\n",
    "X[:,1]  = X1\n",
    "X[:,2]  = D\n",
    "\n",
    "# Estimador de los coeficientes clásico de OLS\n",
    "β_OLS = Inverse( Transpose(X) @ X ) @ Transpose(X) @ Y\n",
    "\n",
    "# Estimador de los residuos de OLS\n",
    "u_OLS = ( Y - X @ β_OLS )\n",
    "\n",
    "# Estimador de varianza de residuos\n",
    "s2_OLS = Dot(u_OLS, u_OLS) / (N*T - K) # s^2\n",
    "\n",
    "# Estimador de varianza de los coeficientes estimados\n",
    "V_β_OLS = s2_OLS * Inverse( Transpose(X) @ X )\n",
    "\n",
    "print('Coeficientes de OLS:')\n",
    "print('α, β1, β1:', β_OLS)\n",
    "print('-'*60)\n",
    "print('Matriz de var-cov:')\n",
    "print(V_β_OLS)"
   ]
  },
  {
   "source": [
    "---\n",
    "\n",
    "### Parte 2\n",
    "\n",
    "---\n",
    "\n",
    "![caption](imgs/p2.png)\n"
   ],
   "cell_type": "markdown",
   "metadata": {}
  },
  {
   "source": [
    "Para testear la hipótesis nula de que el error es homocedástico podemos utilizar el test de Wald"
   ],
   "cell_type": "markdown",
   "metadata": {}
  },
  {
   "cell_type": "code",
   "execution_count": 12,
   "metadata": {},
   "outputs": [
    {
     "output_type": "execute_result",
     "data": {
      "text/plain": [
       "array([[1., 0., 0., ..., 0., 0., 0.],\n",
       "       [1., 0., 0., ..., 0., 0., 0.],\n",
       "       [1., 0., 0., ..., 0., 0., 0.],\n",
       "       ...,\n",
       "       [0., 0., 0., ..., 0., 0., 1.],\n",
       "       [0., 0., 0., ..., 0., 0., 1.],\n",
       "       [0., 0., 0., ..., 0., 0., 1.]])"
      ]
     },
     "metadata": {},
     "execution_count": 12
    }
   ],
   "source": [
    "# Obtenemos la matriz D que se multiplica por el vecto de efectos fijos (α_1,...,α_N)\n",
    "D_FE = np.zeros((N*T, N))\n",
    "for i in range(N):\n",
    "    D_FE[T*i:T*(i+1),i] += 1\n",
    "D_FE"
   ]
  },
  {
   "source": [
    "Calculamos ahora la transfomación de $X$ y de $y$ para poder obtener resultados tipo OLS "
   ],
   "cell_type": "markdown",
   "metadata": {}
  },
  {
   "cell_type": "code",
   "execution_count": 14,
   "metadata": {},
   "outputs": [
    {
     "output_type": "execute_result",
     "data": {
      "text/plain": [
       "array([-9.99677480e-01,  1.01748821e+13])"
      ]
     },
     "metadata": {},
     "execution_count": 14
    }
   ],
   "source": [
    "# Matriz de variables explicativas para efectos fijos\n",
    "K = 2\n",
    "X_FE = np.zeros((N*T, K)) # Incluye X y D\n",
    "X_FE[:,0]  = X1\n",
    "X_FE[:,1]  = D\n",
    "# print(X_FE)\n",
    "\n",
    "\n",
    "# Transformación de X e y para ocupar resultados OLS\n",
    "I_NT = np.identity(N*T)         # Identidad\n",
    "Transformacion = (I_NT - D_FE @ Inverse( Transpose(D_FE) @ D_FE ) @ Transpose(D_FE) )\n",
    "X_FE = Transformacion @ X_FE\n",
    "Y_FE = Transformacion @ Y\n",
    "\n",
    "# Estimador de los coeficientes\n",
    "β_FE = Inverse( Transpose(X_FE) @ X_FE ) @ Transpose(X_FE) @ Y_FE\n",
    "β_FE"
   ]
  },
  {
   "cell_type": "code",
   "execution_count": 17,
   "metadata": {},
   "outputs": [
    {
     "output_type": "execute_result",
     "data": {
      "text/plain": [
       "          Y        X1  D    i    Y_mean   X1_mean\n",
       "0 -0.178110  1.885741  0  1.0  1.186146 -0.045189\n",
       "1  5.521073 -4.763903  0  1.0  1.186146 -0.045189\n",
       "2 -5.019570  5.730828  0  1.0  1.186146 -0.045189\n",
       "3  2.368787 -1.250608  0  1.0  1.186146 -0.045189\n",
       "4  4.700061 -2.882355  0  1.0  1.186146 -0.045189"
      ],
      "text/html": "<div>\n<style scoped>\n    .dataframe tbody tr th:only-of-type {\n        vertical-align: middle;\n    }\n\n    .dataframe tbody tr th {\n        vertical-align: top;\n    }\n\n    .dataframe thead th {\n        text-align: right;\n    }\n</style>\n<table border=\"1\" class=\"dataframe\">\n  <thead>\n    <tr style=\"text-align: right;\">\n      <th></th>\n      <th>Y</th>\n      <th>X1</th>\n      <th>D</th>\n      <th>i</th>\n      <th>Y_mean</th>\n      <th>X1_mean</th>\n    </tr>\n  </thead>\n  <tbody>\n    <tr>\n      <th>0</th>\n      <td>-0.178110</td>\n      <td>1.885741</td>\n      <td>0</td>\n      <td>1.0</td>\n      <td>1.186146</td>\n      <td>-0.045189</td>\n    </tr>\n    <tr>\n      <th>1</th>\n      <td>5.521073</td>\n      <td>-4.763903</td>\n      <td>0</td>\n      <td>1.0</td>\n      <td>1.186146</td>\n      <td>-0.045189</td>\n    </tr>\n    <tr>\n      <th>2</th>\n      <td>-5.019570</td>\n      <td>5.730828</td>\n      <td>0</td>\n      <td>1.0</td>\n      <td>1.186146</td>\n      <td>-0.045189</td>\n    </tr>\n    <tr>\n      <th>3</th>\n      <td>2.368787</td>\n      <td>-1.250608</td>\n      <td>0</td>\n      <td>1.0</td>\n      <td>1.186146</td>\n      <td>-0.045189</td>\n    </tr>\n    <tr>\n      <th>4</th>\n      <td>4.700061</td>\n      <td>-2.882355</td>\n      <td>0</td>\n      <td>1.0</td>\n      <td>1.186146</td>\n      <td>-0.045189</td>\n    </tr>\n  </tbody>\n</table>\n</div>"
     },
     "metadata": {},
     "execution_count": 17
    }
   ],
   "source": [
    "# Dataframe para simplificar el promedio\n",
    "y_X_df =  pd.DataFrame({'Y':Y, 'X1':X1, 'D':D}) # D_i ya es su promedio en todo caso\n",
    "y_X_df['i'] = [float(t//T+1) for t in range(T*N)]\n",
    "y_X_means = y_X_df.groupby('i').mean().drop('D', axis=1)\n",
    "y_X_df = y_X_df.join(y_X_means, on='i', how='right', rsuffix='_mean')\n",
    "y_X_df.head()"
   ]
  },
  {
   "cell_type": "code",
   "execution_count": 19,
   "metadata": {},
   "outputs": [
    {
     "output_type": "execute_result",
     "data": {
      "text/plain": [
       "array([ 1.97548127e+00, -4.67201752e+00,  5.81932837e+00, ...,\n",
       "        1.01748821e+13,  1.01748821e+13,  1.01748821e+13])"
      ]
     },
     "metadata": {},
     "execution_count": 19
    }
   ],
   "source": [
    "X_means = y_X_df.loc[:,['X1_mean', 'D']].to_numpy()\n",
    "Y_means = y_X_df.Y.to_numpy()\n",
    "α_FE = Y_means - X_means @ β_FE\n",
    "u_FE = Y - α_FE - X_FE @ β_FE\n",
    "u_FE"
   ]
  },
  {
   "cell_type": "code",
   "execution_count": 21,
   "metadata": {},
   "outputs": [
    {
     "output_type": "execute_result",
     "data": {
      "text/plain": [
       "array([-3.28852439e+10,  6.47789281e+12,  1.03528227e+26])"
      ]
     },
     "metadata": {},
     "execution_count": 21
    }
   ],
   "source": [
    "Y_WALD = u_FE**2\n",
    "# X_WALD = X \n",
    "β_WALD = Inverse( Transpose(X) @ X ) @ Transpose(X) @ Y_WALD\n",
    "β_WALD"
   ]
  },
  {
   "cell_type": "code",
   "execution_count": 23,
   "metadata": {},
   "outputs": [
    {
     "output_type": "stream",
     "name": "stdout",
     "text": [
      "Rechazamos H_0 (Homocedasticidad)\n"
     ]
    }
   ],
   "source": [
    "# Varianza\n",
    "s2_FE = Dot(u_FE, u_FE) / (N*T - 3 ) # NT - K\n",
    "\n",
    "# Test\n",
    "R = np.array([ \n",
    "    [0, 1, 0],\n",
    "    [0, 0, 1]\n",
    " ])\n",
    "r = np.zeros(2)\n",
    "\n",
    "Rβ_r = R @ β_WALD - r \n",
    "R_XX_R = R @ Inverse(Transpose(X) @ X) @ Transpose(R)\n",
    "W = Transpose(Rβ_r) @ Inverse(R_XX_R) @ Rβ_r / s2_FE \n",
    "\n",
    "# Valor crítico\n",
    "from scipy.stats.distributions import chi2\n",
    "W_crit = chi2.ppf(0.9, df=2) # 2 restricciones, al 90% de confianza\n",
    "\n",
    "# Resultado Test\n",
    "if (W > W_crit): \n",
    "    print('Rechazamos H_0 (Homocedasticidad)') \n",
    "else: \n",
    "    print('Fallamos en rechazar H_0 (Homocedasticidad)')"
   ]
  },
  {
   "source": [
    "---\n",
    "\n",
    "### Parte 3\n",
    "\n",
    "---\n",
    "\n",
    "![caption](imgs/p3.png)"
   ],
   "cell_type": "markdown",
   "metadata": {}
  },
  {
   "cell_type": "code",
   "execution_count": 25,
   "metadata": {},
   "outputs": [
    {
     "output_type": "stream",
     "name": "stdout",
     "text": [
      "Mattriz de var-cov de Eicker-White:\n[[ 3.56659084e-04 -6.34913492e-07 -3.56612291e-04]\n [-6.34913492e-07  1.92047220e-05 -1.26245400e-06]\n [-3.56612291e-04 -1.26245400e-06  1.57390751e-03]]\n"
     ]
    }
   ],
   "source": [
    "# Término de en medio\n",
    "X_diag_X = Transpose(X) @ Diag( u_OLS**2 ) @ X \n",
    "\n",
    "# Matriz var-cov E-W\n",
    "V_β_EW = Inverse( Transpose(X) @ X ) @ X_diag_X @ Inverse( Transpose(X) @ X )\n",
    "print('Mattriz de var-cov de Eicker-White:')\n",
    "print(V_β_EW) "
   ]
  },
  {
   "cell_type": "code",
   "execution_count": 27,
   "metadata": {},
   "outputs": [
    {
     "output_type": "execute_result",
     "data": {
      "text/plain": [
       "array([-2.91900575e-04,  1.67296891e-04,  1.81229187e-07])"
      ]
     },
     "metadata": {},
     "execution_count": 27
    }
   ],
   "source": [
    "# Valores propios de la diferencia\n",
    "Eigen( V_β_OLS - V_β_EW ) # Tiene 1 valor propio negativo => Es semi-def negativa"
   ]
  },
  {
   "source": [
    "---\n",
    "\n",
    "### Parte 4\n",
    "\n",
    "---\n",
    "\n",
    "![caption](imgs/p4.png)"
   ],
   "cell_type": "markdown",
   "metadata": {}
  },
  {
   "source": [
    "Test de Wald"
   ],
   "cell_type": "markdown",
   "metadata": {}
  },
  {
   "cell_type": "code",
   "execution_count": 41,
   "metadata": {},
   "outputs": [
    {
     "output_type": "stream",
     "name": "stdout",
     "text": [
      "Se rechaza H_0 (Autoregresión)\n"
     ]
    }
   ],
   "source": [
    "# Errores T x N\n",
    "u_OLS_Matrix = u_OLS.reshape(T, N)\n",
    "\n",
    "# t y (t-1)\n",
    "u_OLS_Matrix_t =   u_OLS_Matrix[1: ,:].reshape(N*(T-1),)\n",
    "u_OLS_Matrix_t_1 = u_OLS_Matrix[:-1,:].reshape(N*(T-1),)\n",
    "\n",
    "# Sumas auxiliares del estadístico\n",
    "sum_u_t_1_t_1   = np.sum( u_OLS_Matrix_t_1 ** 2 )\n",
    "sum_u_t_t_1 = np.sum( u_OLS_Matrix_t * u_OLS_Matrix_t_1 )\n",
    "# \n",
    "ϕ_OMS =  sum_u_t_t_1 /( sum_u_t_1_t_1 )\n",
    "\n",
    "# Estadístico\n",
    "ρ_AR = np.sqrt( N*T ) * ϕ_OMS\n",
    "\n",
    "# Test\n",
    "if ρ_AR > 1.96: # 5% de significancia\n",
    "    print('Se rechaza H_0 (Autoregresión)')\n",
    "else:\n",
    "    print('Se rechaza H_0 (Autoregresión)')"
   ]
  },
  {
   "source": [
    "---\n",
    "\n",
    "### Parte 5\n",
    "\n",
    "---\n",
    "\n",
    "![caption](imgs/p5.png)"
   ],
   "cell_type": "markdown",
   "metadata": {}
  },
  {
   "cell_type": "code",
   "execution_count": null,
   "metadata": {},
   "outputs": [],
   "source": []
  },
  {
   "source": [
    "$\\beta_1, \\beta_2, \\alpha, \\phi, \\rho$"
   ],
   "cell_type": "markdown",
   "metadata": {}
  }
 ]
}