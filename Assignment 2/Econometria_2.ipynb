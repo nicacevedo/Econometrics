{
 "metadata": {
  "language_info": {
   "codemirror_mode": {
    "name": "ipython",
    "version": 3
   },
   "file_extension": ".py",
   "mimetype": "text/x-python",
   "name": "python",
   "nbconvert_exporter": "python",
   "pygments_lexer": "ipython3",
   "version": "3.9.4"
  },
  "orig_nbformat": 4,
  "kernelspec": {
   "name": "python3",
   "display_name": "Python 3.9.4 64-bit"
  },
  "interpreter": {
   "hash": "f06a86bce79acaf3acf2e76ec4fe633dd4361b94f634cdb8baa7b4f8e375f272"
  }
 },
 "nbformat": 4,
 "nbformat_minor": 2,
 "cells": [
  {
   "cell_type": "code",
   "execution_count": 15,
   "metadata": {},
   "outputs": [
    {
     "output_type": "display_data",
     "data": {
      "text/plain": "<Figure size 432x288 with 1 Axes>",
      "image/svg+xml": "<?xml version=\"1.0\" encoding=\"utf-8\" standalone=\"no\"?>\r\n<!DOCTYPE svg PUBLIC \"-//W3C//DTD SVG 1.1//EN\"\r\n  \"http://www.w3.org/Graphics/SVG/1.1/DTD/svg11.dtd\">\r\n<svg height=\"248.518125pt\" version=\"1.1\" viewBox=\"0 0 375.2875 248.518125\" width=\"375.2875pt\" xmlns=\"http://www.w3.org/2000/svg\" xmlns:xlink=\"http://www.w3.org/1999/xlink\">\r\n <metadata>\r\n  <rdf:RDF xmlns:cc=\"http://creativecommons.org/ns#\" xmlns:dc=\"http://purl.org/dc/elements/1.1/\" xmlns:rdf=\"http://www.w3.org/1999/02/22-rdf-syntax-ns#\">\r\n   <cc:Work>\r\n    <dc:type rdf:resource=\"http://purl.org/dc/dcmitype/StillImage\"/>\r\n    <dc:date>2021-06-13T00:46:22.155805</dc:date>\r\n    <dc:format>image/svg+xml</dc:format>\r\n    <dc:creator>\r\n     <cc:Agent>\r\n      <dc:title>Matplotlib v3.4.1, https://matplotlib.org/</dc:title>\r\n     </cc:Agent>\r\n    </dc:creator>\r\n   </cc:Work>\r\n  </rdf:RDF>\r\n </metadata>\r\n <defs>\r\n  <style type=\"text/css\">*{stroke-linecap:butt;stroke-linejoin:round;}</style>\r\n </defs>\r\n <g id=\"figure_1\">\r\n  <g id=\"patch_1\">\r\n   <path d=\"M 0 248.518125 \r\nL 375.2875 248.518125 \r\nL 375.2875 0 \r\nL 0 0 \r\nz\r\n\" style=\"fill:none;\"/>\r\n  </g>\r\n  <g id=\"axes_1\">\r\n   <g id=\"patch_2\">\r\n    <path d=\"M 33.2875 224.64 \r\nL 368.0875 224.64 \r\nL 368.0875 7.2 \r\nL 33.2875 7.2 \r\nz\r\n\" style=\"fill:#ffffff;\"/>\r\n   </g>\r\n   <g id=\"patch_3\">\r\n    <path clip-path=\"url(#p5f8ed5c71c)\" d=\"M 48.505682 224.64 \r\nL 51.549318 224.64 \r\nL 51.549318 224.318438 \r\nL 48.505682 224.318438 \r\nz\r\n\" style=\"fill:#1f77b4;\"/>\r\n   </g>\r\n   <g id=\"patch_4\">\r\n    <path clip-path=\"url(#p5f8ed5c71c)\" d=\"M 51.549318 224.64 \r\nL 54.592955 224.64 \r\nL 54.592955 224.64 \r\nL 51.549318 224.64 \r\nz\r\n\" style=\"fill:#1f77b4;\"/>\r\n   </g>\r\n   <g id=\"patch_5\">\r\n    <path clip-path=\"url(#p5f8ed5c71c)\" d=\"M 54.592955 224.64 \r\nL 57.636591 224.64 \r\nL 57.636591 224.64 \r\nL 54.592955 224.64 \r\nz\r\n\" style=\"fill:#1f77b4;\"/>\r\n   </g>\r\n   <g id=\"patch_6\">\r\n    <path clip-path=\"url(#p5f8ed5c71c)\" d=\"M 57.636591 224.64 \r\nL 60.680227 224.64 \r\nL 60.680227 224.64 \r\nL 57.636591 224.64 \r\nz\r\n\" style=\"fill:#1f77b4;\"/>\r\n   </g>\r\n   <g id=\"patch_7\">\r\n    <path clip-path=\"url(#p5f8ed5c71c)\" d=\"M 60.680227 224.64 \r\nL 63.723864 224.64 \r\nL 63.723864 224.318438 \r\nL 60.680227 224.318438 \r\nz\r\n\" style=\"fill:#1f77b4;\"/>\r\n   </g>\r\n   <g id=\"patch_8\">\r\n    <path clip-path=\"url(#p5f8ed5c71c)\" d=\"M 63.723864 224.64 \r\nL 66.7675 224.64 \r\nL 66.7675 224.318438 \r\nL 63.723864 224.318438 \r\nz\r\n\" style=\"fill:#1f77b4;\"/>\r\n   </g>\r\n   <g id=\"patch_9\">\r\n    <path clip-path=\"url(#p5f8ed5c71c)\" d=\"M 66.7675 224.64 \r\nL 69.811136 224.64 \r\nL 69.811136 224.318438 \r\nL 66.7675 224.318438 \r\nz\r\n\" style=\"fill:#1f77b4;\"/>\r\n   </g>\r\n   <g id=\"patch_10\">\r\n    <path clip-path=\"url(#p5f8ed5c71c)\" d=\"M 69.811136 224.64 \r\nL 72.854773 224.64 \r\nL 72.854773 223.675315 \r\nL 69.811136 223.675315 \r\nz\r\n\" style=\"fill:#1f77b4;\"/>\r\n   </g>\r\n   <g id=\"patch_11\">\r\n    <path clip-path=\"url(#p5f8ed5c71c)\" d=\"M 72.854773 224.64 \r\nL 75.898409 224.64 \r\nL 75.898409 223.675315 \r\nL 72.854773 223.675315 \r\nz\r\n\" style=\"fill:#1f77b4;\"/>\r\n   </g>\r\n   <g id=\"patch_12\">\r\n    <path clip-path=\"url(#p5f8ed5c71c)\" d=\"M 75.898409 224.64 \r\nL 78.942045 224.64 \r\nL 78.942045 221.745945 \r\nL 75.898409 221.745945 \r\nz\r\n\" style=\"fill:#1f77b4;\"/>\r\n   </g>\r\n   <g id=\"patch_13\">\r\n    <path clip-path=\"url(#p5f8ed5c71c)\" d=\"M 78.942045 224.64 \r\nL 81.985682 224.64 \r\nL 81.985682 222.067507 \r\nL 78.942045 222.067507 \r\nz\r\n\" style=\"fill:#1f77b4;\"/>\r\n   </g>\r\n   <g id=\"patch_14\">\r\n    <path clip-path=\"url(#p5f8ed5c71c)\" d=\"M 81.985682 224.64 \r\nL 85.029318 224.64 \r\nL 85.029318 222.71063 \r\nL 81.985682 222.71063 \r\nz\r\n\" style=\"fill:#1f77b4;\"/>\r\n   </g>\r\n   <g id=\"patch_15\">\r\n    <path clip-path=\"url(#p5f8ed5c71c)\" d=\"M 85.029318 224.64 \r\nL 88.072955 224.64 \r\nL 88.072955 222.067507 \r\nL 85.029318 222.067507 \r\nz\r\n\" style=\"fill:#1f77b4;\"/>\r\n   </g>\r\n   <g id=\"patch_16\">\r\n    <path clip-path=\"url(#p5f8ed5c71c)\" d=\"M 88.072955 224.64 \r\nL 91.116591 224.64 \r\nL 91.116591 223.032192 \r\nL 88.072955 223.032192 \r\nz\r\n\" style=\"fill:#1f77b4;\"/>\r\n   </g>\r\n   <g id=\"patch_17\">\r\n    <path clip-path=\"url(#p5f8ed5c71c)\" d=\"M 91.116591 224.64 \r\nL 94.160227 224.64 \r\nL 94.160227 219.495013 \r\nL 91.116591 219.495013 \r\nz\r\n\" style=\"fill:#1f77b4;\"/>\r\n   </g>\r\n   <g id=\"patch_18\">\r\n    <path clip-path=\"url(#p5f8ed5c71c)\" d=\"M 94.160227 224.64 \r\nL 97.203864 224.64 \r\nL 97.203864 219.495013 \r\nL 94.160227 219.495013 \r\nz\r\n\" style=\"fill:#1f77b4;\"/>\r\n   </g>\r\n   <g id=\"patch_19\">\r\n    <path clip-path=\"url(#p5f8ed5c71c)\" d=\"M 97.203864 224.64 \r\nL 100.2475 224.64 \r\nL 100.2475 217.887205 \r\nL 97.203864 217.887205 \r\nz\r\n\" style=\"fill:#1f77b4;\"/>\r\n   </g>\r\n   <g id=\"patch_20\">\r\n    <path clip-path=\"url(#p5f8ed5c71c)\" d=\"M 100.2475 224.64 \r\nL 103.291136 224.64 \r\nL 103.291136 214.350027 \r\nL 100.2475 214.350027 \r\nz\r\n\" style=\"fill:#1f77b4;\"/>\r\n   </g>\r\n   <g id=\"patch_21\">\r\n    <path clip-path=\"url(#p5f8ed5c71c)\" d=\"M 103.291136 224.64 \r\nL 106.334773 224.64 \r\nL 106.334773 213.385342 \r\nL 103.291136 213.385342 \r\nz\r\n\" style=\"fill:#1f77b4;\"/>\r\n   </g>\r\n   <g id=\"patch_22\">\r\n    <path clip-path=\"url(#p5f8ed5c71c)\" d=\"M 106.334773 224.64 \r\nL 109.378409 224.64 \r\nL 109.378409 210.169725 \r\nL 106.334773 210.169725 \r\nz\r\n\" style=\"fill:#1f77b4;\"/>\r\n   </g>\r\n   <g id=\"patch_23\">\r\n    <path clip-path=\"url(#p5f8ed5c71c)\" d=\"M 109.378409 224.64 \r\nL 112.422045 224.64 \r\nL 112.422045 206.954108 \r\nL 109.378409 206.954108 \r\nz\r\n\" style=\"fill:#1f77b4;\"/>\r\n   </g>\r\n   <g id=\"patch_24\">\r\n    <path clip-path=\"url(#p5f8ed5c71c)\" d=\"M 112.422045 224.64 \r\nL 115.465682 224.64 \r\nL 115.465682 205.3463 \r\nL 112.422045 205.3463 \r\nz\r\n\" style=\"fill:#1f77b4;\"/>\r\n   </g>\r\n   <g id=\"patch_25\">\r\n    <path clip-path=\"url(#p5f8ed5c71c)\" d=\"M 115.465682 224.64 \r\nL 118.509318 224.64 \r\nL 118.509318 203.41693 \r\nL 115.465682 203.41693 \r\nz\r\n\" style=\"fill:#1f77b4;\"/>\r\n   </g>\r\n   <g id=\"patch_26\">\r\n    <path clip-path=\"url(#p5f8ed5c71c)\" d=\"M 118.509318 224.64 \r\nL 121.552955 224.64 \r\nL 121.552955 196.985697 \r\nL 118.509318 196.985697 \r\nz\r\n\" style=\"fill:#1f77b4;\"/>\r\n   </g>\r\n   <g id=\"patch_27\">\r\n    <path clip-path=\"url(#p5f8ed5c71c)\" d=\"M 121.552955 224.64 \r\nL 124.596591 224.64 \r\nL 124.596591 194.734765 \r\nL 121.552955 194.734765 \r\nz\r\n\" style=\"fill:#1f77b4;\"/>\r\n   </g>\r\n   <g id=\"patch_28\">\r\n    <path clip-path=\"url(#p5f8ed5c71c)\" d=\"M 124.596591 224.64 \r\nL 127.640227 224.64 \r\nL 127.640227 185.087915 \r\nL 124.596591 185.087915 \r\nz\r\n\" style=\"fill:#1f77b4;\"/>\r\n   </g>\r\n   <g id=\"patch_29\">\r\n    <path clip-path=\"url(#p5f8ed5c71c)\" d=\"M 127.640227 224.64 \r\nL 130.683864 224.64 \r\nL 130.683864 176.40575 \r\nL 127.640227 176.40575 \r\nz\r\n\" style=\"fill:#1f77b4;\"/>\r\n   </g>\r\n   <g id=\"patch_30\">\r\n    <path clip-path=\"url(#p5f8ed5c71c)\" d=\"M 130.683864 224.64 \r\nL 133.7275 224.64 \r\nL 133.7275 174.154818 \r\nL 130.683864 174.154818 \r\nz\r\n\" style=\"fill:#1f77b4;\"/>\r\n   </g>\r\n   <g id=\"patch_31\">\r\n    <path clip-path=\"url(#p5f8ed5c71c)\" d=\"M 133.7275 224.64 \r\nL 136.771136 224.64 \r\nL 136.771136 163.221721 \r\nL 133.7275 163.221721 \r\nz\r\n\" style=\"fill:#1f77b4;\"/>\r\n   </g>\r\n   <g id=\"patch_32\">\r\n    <path clip-path=\"url(#p5f8ed5c71c)\" d=\"M 136.771136 224.64 \r\nL 139.814773 224.64 \r\nL 139.814773 162.578598 \r\nL 136.771136 162.578598 \r\nz\r\n\" style=\"fill:#1f77b4;\"/>\r\n   </g>\r\n   <g id=\"patch_33\">\r\n    <path clip-path=\"url(#p5f8ed5c71c)\" d=\"M 139.814773 224.64 \r\nL 142.858409 224.64 \r\nL 142.858409 154.861118 \r\nL 139.814773 154.861118 \r\nz\r\n\" style=\"fill:#1f77b4;\"/>\r\n   </g>\r\n   <g id=\"patch_34\">\r\n    <path clip-path=\"url(#p5f8ed5c71c)\" d=\"M 142.858409 224.64 \r\nL 145.902045 224.64 \r\nL 145.902045 143.284898 \r\nL 142.858409 143.284898 \r\nz\r\n\" style=\"fill:#1f77b4;\"/>\r\n   </g>\r\n   <g id=\"patch_35\">\r\n    <path clip-path=\"url(#p5f8ed5c71c)\" d=\"M 145.902045 224.64 \r\nL 148.945682 224.64 \r\nL 148.945682 139.74772 \r\nL 145.902045 139.74772 \r\nz\r\n\" style=\"fill:#1f77b4;\"/>\r\n   </g>\r\n   <g id=\"patch_36\">\r\n    <path clip-path=\"url(#p5f8ed5c71c)\" d=\"M 148.945682 224.64 \r\nL 151.989318 224.64 \r\nL 151.989318 128.493061 \r\nL 148.945682 128.493061 \r\nz\r\n\" style=\"fill:#1f77b4;\"/>\r\n   </g>\r\n   <g id=\"patch_37\">\r\n    <path clip-path=\"url(#p5f8ed5c71c)\" d=\"M 151.989318 224.64 \r\nL 155.032955 224.64 \r\nL 155.032955 125.277445 \r\nL 151.989318 125.277445 \r\nz\r\n\" style=\"fill:#1f77b4;\"/>\r\n   </g>\r\n   <g id=\"patch_38\">\r\n    <path clip-path=\"url(#p5f8ed5c71c)\" d=\"M 155.032955 224.64 \r\nL 158.076591 224.64 \r\nL 158.076591 113.058101 \r\nL 155.032955 113.058101 \r\nz\r\n\" style=\"fill:#1f77b4;\"/>\r\n   </g>\r\n   <g id=\"patch_39\">\r\n    <path clip-path=\"url(#p5f8ed5c71c)\" d=\"M 158.076591 224.64 \r\nL 161.120227 224.64 \r\nL 161.120227 93.764401 \r\nL 158.076591 93.764401 \r\nz\r\n\" style=\"fill:#1f77b4;\"/>\r\n   </g>\r\n   <g id=\"patch_40\">\r\n    <path clip-path=\"url(#p5f8ed5c71c)\" d=\"M 161.120227 224.64 \r\nL 164.163864 224.64 \r\nL 164.163864 87.976291 \r\nL 161.120227 87.976291 \r\nz\r\n\" style=\"fill:#1f77b4;\"/>\r\n   </g>\r\n   <g id=\"patch_41\">\r\n    <path clip-path=\"url(#p5f8ed5c71c)\" d=\"M 164.163864 224.64 \r\nL 167.2075 224.64 \r\nL 167.2075 90.870346 \r\nL 164.163864 90.870346 \r\nz\r\n\" style=\"fill:#1f77b4;\"/>\r\n   </g>\r\n   <g id=\"patch_42\">\r\n    <path clip-path=\"url(#p5f8ed5c71c)\" d=\"M 167.2075 224.64 \r\nL 170.251136 224.64 \r\nL 170.251136 83.795989 \r\nL 167.2075 83.795989 \r\nz\r\n\" style=\"fill:#1f77b4;\"/>\r\n   </g>\r\n   <g id=\"patch_43\">\r\n    <path clip-path=\"url(#p5f8ed5c71c)\" d=\"M 170.251136 224.64 \r\nL 173.294773 224.64 \r\nL 173.294773 58.392618 \r\nL 170.251136 58.392618 \r\nz\r\n\" style=\"fill:#1f77b4;\"/>\r\n   </g>\r\n   <g id=\"patch_44\">\r\n    <path clip-path=\"url(#p5f8ed5c71c)\" d=\"M 173.294773 224.64 \r\nL 176.338409 224.64 \r\nL 176.338409 55.498563 \r\nL 173.294773 55.498563 \r\nz\r\n\" style=\"fill:#1f77b4;\"/>\r\n   </g>\r\n   <g id=\"patch_45\">\r\n    <path clip-path=\"url(#p5f8ed5c71c)\" d=\"M 176.338409 224.64 \r\nL 179.382045 224.64 \r\nL 179.382045 54.533878 \r\nL 176.338409 54.533878 \r\nz\r\n\" style=\"fill:#1f77b4;\"/>\r\n   </g>\r\n   <g id=\"patch_46\">\r\n    <path clip-path=\"url(#p5f8ed5c71c)\" d=\"M 179.382045 224.64 \r\nL 182.425682 224.64 \r\nL 182.425682 55.498563 \r\nL 179.382045 55.498563 \r\nz\r\n\" style=\"fill:#1f77b4;\"/>\r\n   </g>\r\n   <g id=\"patch_47\">\r\n    <path clip-path=\"url(#p5f8ed5c71c)\" d=\"M 182.425682 224.64 \r\nL 185.469318 224.64 \r\nL 185.469318 52.604508 \r\nL 182.425682 52.604508 \r\nz\r\n\" style=\"fill:#1f77b4;\"/>\r\n   </g>\r\n   <g id=\"patch_48\">\r\n    <path clip-path=\"url(#p5f8ed5c71c)\" d=\"M 185.469318 224.64 \r\nL 188.512955 224.64 \r\nL 188.512955 31.702999 \r\nL 185.469318 31.702999 \r\nz\r\n\" style=\"fill:#1f77b4;\"/>\r\n   </g>\r\n   <g id=\"patch_49\">\r\n    <path clip-path=\"url(#p5f8ed5c71c)\" d=\"M 188.512955 224.64 \r\nL 191.556591 224.64 \r\nL 191.556591 17.554286 \r\nL 188.512955 17.554286 \r\nz\r\n\" style=\"fill:#1f77b4;\"/>\r\n   </g>\r\n   <g id=\"patch_50\">\r\n    <path clip-path=\"url(#p5f8ed5c71c)\" d=\"M 191.556591 224.64 \r\nL 194.600227 224.64 \r\nL 194.600227 27.522697 \r\nL 191.556591 27.522697 \r\nz\r\n\" style=\"fill:#1f77b4;\"/>\r\n   </g>\r\n   <g id=\"patch_51\">\r\n    <path clip-path=\"url(#p5f8ed5c71c)\" d=\"M 194.600227 224.64 \r\nL 197.643864 224.64 \r\nL 197.643864 29.773629 \r\nL 194.600227 29.773629 \r\nz\r\n\" style=\"fill:#1f77b4;\"/>\r\n   </g>\r\n   <g id=\"patch_52\">\r\n    <path clip-path=\"url(#p5f8ed5c71c)\" d=\"M 197.643864 224.64 \r\nL 200.6875 224.64 \r\nL 200.6875 34.597054 \r\nL 197.643864 34.597054 \r\nz\r\n\" style=\"fill:#1f77b4;\"/>\r\n   </g>\r\n   <g id=\"patch_53\">\r\n    <path clip-path=\"url(#p5f8ed5c71c)\" d=\"M 200.6875 224.64 \r\nL 203.731136 224.64 \r\nL 203.731136 37.812671 \r\nL 200.6875 37.812671 \r\nz\r\n\" style=\"fill:#1f77b4;\"/>\r\n   </g>\r\n   <g id=\"patch_54\">\r\n    <path clip-path=\"url(#p5f8ed5c71c)\" d=\"M 203.731136 224.64 \r\nL 206.774773 224.64 \r\nL 206.774773 30.416752 \r\nL 203.731136 30.416752 \r\nz\r\n\" style=\"fill:#1f77b4;\"/>\r\n   </g>\r\n   <g id=\"patch_55\">\r\n    <path clip-path=\"url(#p5f8ed5c71c)\" d=\"M 206.774773 224.64 \r\nL 209.818409 224.64 \r\nL 209.818409 34.597054 \r\nL 206.774773 34.597054 \r\nz\r\n\" style=\"fill:#1f77b4;\"/>\r\n   </g>\r\n   <g id=\"patch_56\">\r\n    <path clip-path=\"url(#p5f8ed5c71c)\" d=\"M 209.818409 224.64 \r\nL 212.862045 224.64 \r\nL 212.862045 42.314534 \r\nL 209.818409 42.314534 \r\nz\r\n\" style=\"fill:#1f77b4;\"/>\r\n   </g>\r\n   <g id=\"patch_57\">\r\n    <path clip-path=\"url(#p5f8ed5c71c)\" d=\"M 212.862045 224.64 \r\nL 215.905682 224.64 \r\nL 215.905682 41.671411 \r\nL 212.862045 41.671411 \r\nz\r\n\" style=\"fill:#1f77b4;\"/>\r\n   </g>\r\n   <g id=\"patch_58\">\r\n    <path clip-path=\"url(#p5f8ed5c71c)\" d=\"M 215.905682 224.64 \r\nL 218.949318 224.64 \r\nL 218.949318 45.851713 \r\nL 215.905682 45.851713 \r\nz\r\n\" style=\"fill:#1f77b4;\"/>\r\n   </g>\r\n   <g id=\"patch_59\">\r\n    <path clip-path=\"url(#p5f8ed5c71c)\" d=\"M 218.949318 224.64 \r\nL 221.992955 224.64 \r\nL 221.992955 52.604508 \r\nL 218.949318 52.604508 \r\nz\r\n\" style=\"fill:#1f77b4;\"/>\r\n   </g>\r\n   <g id=\"patch_60\">\r\n    <path clip-path=\"url(#p5f8ed5c71c)\" d=\"M 221.992955 224.64 \r\nL 225.036591 224.64 \r\nL 225.036591 56.141686 \r\nL 221.992955 56.141686 \r\nz\r\n\" style=\"fill:#1f77b4;\"/>\r\n   </g>\r\n   <g id=\"patch_61\">\r\n    <path clip-path=\"url(#p5f8ed5c71c)\" d=\"M 225.036591 224.64 \r\nL 228.080227 224.64 \r\nL 228.080227 73.827578 \r\nL 225.036591 73.827578 \r\nz\r\n\" style=\"fill:#1f77b4;\"/>\r\n   </g>\r\n   <g id=\"patch_62\">\r\n    <path clip-path=\"url(#p5f8ed5c71c)\" d=\"M 228.080227 224.64 \r\nL 231.123864 224.64 \r\nL 231.123864 83.474428 \r\nL 228.080227 83.474428 \r\nz\r\n\" style=\"fill:#1f77b4;\"/>\r\n   </g>\r\n   <g id=\"patch_63\">\r\n    <path clip-path=\"url(#p5f8ed5c71c)\" d=\"M 231.123864 224.64 \r\nL 234.1675 224.64 \r\nL 234.1675 97.301579 \r\nL 231.123864 97.301579 \r\nz\r\n\" style=\"fill:#1f77b4;\"/>\r\n   </g>\r\n   <g id=\"patch_64\">\r\n    <path clip-path=\"url(#p5f8ed5c71c)\" d=\"M 234.1675 224.64 \r\nL 237.211136 224.64 \r\nL 237.211136 84.439113 \r\nL 234.1675 84.439113 \r\nz\r\n\" style=\"fill:#1f77b4;\"/>\r\n   </g>\r\n   <g id=\"patch_65\">\r\n    <path clip-path=\"url(#p5f8ed5c71c)\" d=\"M 237.211136 224.64 \r\nL 240.254773 224.64 \r\nL 240.254773 101.481881 \r\nL 237.211136 101.481881 \r\nz\r\n\" style=\"fill:#1f77b4;\"/>\r\n   </g>\r\n   <g id=\"patch_66\">\r\n    <path clip-path=\"url(#p5f8ed5c71c)\" d=\"M 240.254773 224.64 \r\nL 243.298409 224.64 \r\nL 243.298409 119.489335 \r\nL 240.254773 119.489335 \r\nz\r\n\" style=\"fill:#1f77b4;\"/>\r\n   </g>\r\n   <g id=\"patch_67\">\r\n    <path clip-path=\"url(#p5f8ed5c71c)\" d=\"M 243.298409 224.64 \r\nL 246.342045 224.64 \r\nL 246.342045 123.348075 \r\nL 243.298409 123.348075 \r\nz\r\n\" style=\"fill:#1f77b4;\"/>\r\n   </g>\r\n   <g id=\"patch_68\">\r\n    <path clip-path=\"url(#p5f8ed5c71c)\" d=\"M 246.342045 224.64 \r\nL 249.385682 224.64 \r\nL 249.385682 131.065555 \r\nL 246.342045 131.065555 \r\nz\r\n\" style=\"fill:#1f77b4;\"/>\r\n   </g>\r\n   <g id=\"patch_69\">\r\n    <path clip-path=\"url(#p5f8ed5c71c)\" d=\"M 249.385682 224.64 \r\nL 252.429318 224.64 \r\nL 252.429318 146.822076 \r\nL 249.385682 146.822076 \r\nz\r\n\" style=\"fill:#1f77b4;\"/>\r\n   </g>\r\n   <g id=\"patch_70\">\r\n    <path clip-path=\"url(#p5f8ed5c71c)\" d=\"M 252.429318 224.64 \r\nL 255.472955 224.64 \r\nL 255.472955 151.002378 \r\nL 252.429318 151.002378 \r\nz\r\n\" style=\"fill:#1f77b4;\"/>\r\n   </g>\r\n   <g id=\"patch_71\">\r\n    <path clip-path=\"url(#p5f8ed5c71c)\" d=\"M 255.472955 224.64 \r\nL 258.516591 224.64 \r\nL 258.516591 160.327666 \r\nL 255.472955 160.327666 \r\nz\r\n\" style=\"fill:#1f77b4;\"/>\r\n   </g>\r\n   <g id=\"patch_72\">\r\n    <path clip-path=\"url(#p5f8ed5c71c)\" d=\"M 258.516591 224.64 \r\nL 261.560227 224.64 \r\nL 261.560227 165.472653 \r\nL 258.516591 165.472653 \r\nz\r\n\" style=\"fill:#1f77b4;\"/>\r\n   </g>\r\n   <g id=\"patch_73\">\r\n    <path clip-path=\"url(#p5f8ed5c71c)\" d=\"M 261.560227 224.64 \r\nL 264.603864 224.64 \r\nL 264.603864 170.61764 \r\nL 261.560227 170.61764 \r\nz\r\n\" style=\"fill:#1f77b4;\"/>\r\n   </g>\r\n   <g id=\"patch_74\">\r\n    <path clip-path=\"url(#p5f8ed5c71c)\" d=\"M 264.603864 224.64 \r\nL 267.6475 224.64 \r\nL 267.6475 177.370435 \r\nL 264.603864 177.370435 \r\nz\r\n\" style=\"fill:#1f77b4;\"/>\r\n   </g>\r\n   <g id=\"patch_75\">\r\n    <path clip-path=\"url(#p5f8ed5c71c)\" d=\"M 267.6475 224.64 \r\nL 270.691136 224.64 \r\nL 270.691136 177.370435 \r\nL 267.6475 177.370435 \r\nz\r\n\" style=\"fill:#1f77b4;\"/>\r\n   </g>\r\n   <g id=\"patch_76\">\r\n    <path clip-path=\"url(#p5f8ed5c71c)\" d=\"M 270.691136 224.64 \r\nL 273.734773 224.64 \r\nL 273.734773 192.805395 \r\nL 270.691136 192.805395 \r\nz\r\n\" style=\"fill:#1f77b4;\"/>\r\n   </g>\r\n   <g id=\"patch_77\">\r\n    <path clip-path=\"url(#p5f8ed5c71c)\" d=\"M 273.734773 224.64 \r\nL 276.778409 224.64 \r\nL 276.778409 194.734765 \r\nL 273.734773 194.734765 \r\nz\r\n\" style=\"fill:#1f77b4;\"/>\r\n   </g>\r\n   <g id=\"patch_78\">\r\n    <path clip-path=\"url(#p5f8ed5c71c)\" d=\"M 276.778409 224.64 \r\nL 279.822045 224.64 \r\nL 279.822045 200.844437 \r\nL 276.778409 200.844437 \r\nz\r\n\" style=\"fill:#1f77b4;\"/>\r\n   </g>\r\n   <g id=\"patch_79\">\r\n    <path clip-path=\"url(#p5f8ed5c71c)\" d=\"M 279.822045 224.64 \r\nL 282.865682 224.64 \r\nL 282.865682 203.738492 \r\nL 279.822045 203.738492 \r\nz\r\n\" style=\"fill:#1f77b4;\"/>\r\n   </g>\r\n   <g id=\"patch_80\">\r\n    <path clip-path=\"url(#p5f8ed5c71c)\" d=\"M 282.865682 224.64 \r\nL 285.909318 224.64 \r\nL 285.909318 209.526602 \r\nL 282.865682 209.526602 \r\nz\r\n\" style=\"fill:#1f77b4;\"/>\r\n   </g>\r\n   <g id=\"patch_81\">\r\n    <path clip-path=\"url(#p5f8ed5c71c)\" d=\"M 285.909318 224.64 \r\nL 288.952955 224.64 \r\nL 288.952955 207.918793 \r\nL 285.909318 207.918793 \r\nz\r\n\" style=\"fill:#1f77b4;\"/>\r\n   </g>\r\n   <g id=\"patch_82\">\r\n    <path clip-path=\"url(#p5f8ed5c71c)\" d=\"M 288.952955 224.64 \r\nL 291.996591 224.64 \r\nL 291.996591 214.028465 \r\nL 288.952955 214.028465 \r\nz\r\n\" style=\"fill:#1f77b4;\"/>\r\n   </g>\r\n   <g id=\"patch_83\">\r\n    <path clip-path=\"url(#p5f8ed5c71c)\" d=\"M 291.996591 224.64 \r\nL 295.040227 224.64 \r\nL 295.040227 215.957835 \r\nL 291.996591 215.957835 \r\nz\r\n\" style=\"fill:#1f77b4;\"/>\r\n   </g>\r\n   <g id=\"patch_84\">\r\n    <path clip-path=\"url(#p5f8ed5c71c)\" d=\"M 295.040227 224.64 \r\nL 298.083864 224.64 \r\nL 298.083864 215.636273 \r\nL 295.040227 215.636273 \r\nz\r\n\" style=\"fill:#1f77b4;\"/>\r\n   </g>\r\n   <g id=\"patch_85\">\r\n    <path clip-path=\"url(#p5f8ed5c71c)\" d=\"M 298.083864 224.64 \r\nL 301.1275 224.64 \r\nL 301.1275 216.279397 \r\nL 298.083864 216.279397 \r\nz\r\n\" style=\"fill:#1f77b4;\"/>\r\n   </g>\r\n   <g id=\"patch_86\">\r\n    <path clip-path=\"url(#p5f8ed5c71c)\" d=\"M 301.1275 224.64 \r\nL 304.171136 224.64 \r\nL 304.171136 217.887205 \r\nL 301.1275 217.887205 \r\nz\r\n\" style=\"fill:#1f77b4;\"/>\r\n   </g>\r\n   <g id=\"patch_87\">\r\n    <path clip-path=\"url(#p5f8ed5c71c)\" d=\"M 304.171136 224.64 \r\nL 307.214773 224.64 \r\nL 307.214773 214.350027 \r\nL 304.171136 214.350027 \r\nz\r\n\" style=\"fill:#1f77b4;\"/>\r\n   </g>\r\n   <g id=\"patch_88\">\r\n    <path clip-path=\"url(#p5f8ed5c71c)\" d=\"M 307.214773 224.64 \r\nL 310.258409 224.64 \r\nL 310.258409 221.745945 \r\nL 307.214773 221.745945 \r\nz\r\n\" style=\"fill:#1f77b4;\"/>\r\n   </g>\r\n   <g id=\"patch_89\">\r\n    <path clip-path=\"url(#p5f8ed5c71c)\" d=\"M 310.258409 224.64 \r\nL 313.302045 224.64 \r\nL 313.302045 221.102822 \r\nL 310.258409 221.102822 \r\nz\r\n\" style=\"fill:#1f77b4;\"/>\r\n   </g>\r\n   <g id=\"patch_90\">\r\n    <path clip-path=\"url(#p5f8ed5c71c)\" d=\"M 313.302045 224.64 \r\nL 316.345682 224.64 \r\nL 316.345682 223.032192 \r\nL 313.302045 223.032192 \r\nz\r\n\" style=\"fill:#1f77b4;\"/>\r\n   </g>\r\n   <g id=\"patch_91\">\r\n    <path clip-path=\"url(#p5f8ed5c71c)\" d=\"M 316.345682 224.64 \r\nL 319.389318 224.64 \r\nL 319.389318 222.389068 \r\nL 316.345682 222.389068 \r\nz\r\n\" style=\"fill:#1f77b4;\"/>\r\n   </g>\r\n   <g id=\"patch_92\">\r\n    <path clip-path=\"url(#p5f8ed5c71c)\" d=\"M 319.389318 224.64 \r\nL 322.432955 224.64 \r\nL 322.432955 223.032192 \r\nL 319.389318 223.032192 \r\nz\r\n\" style=\"fill:#1f77b4;\"/>\r\n   </g>\r\n   <g id=\"patch_93\">\r\n    <path clip-path=\"url(#p5f8ed5c71c)\" d=\"M 322.432955 224.64 \r\nL 325.476591 224.64 \r\nL 325.476591 223.032192 \r\nL 322.432955 223.032192 \r\nz\r\n\" style=\"fill:#1f77b4;\"/>\r\n   </g>\r\n   <g id=\"patch_94\">\r\n    <path clip-path=\"url(#p5f8ed5c71c)\" d=\"M 325.476591 224.64 \r\nL 328.520227 224.64 \r\nL 328.520227 223.353753 \r\nL 325.476591 223.353753 \r\nz\r\n\" style=\"fill:#1f77b4;\"/>\r\n   </g>\r\n   <g id=\"patch_95\">\r\n    <path clip-path=\"url(#p5f8ed5c71c)\" d=\"M 328.520227 224.64 \r\nL 331.563864 224.64 \r\nL 331.563864 223.353753 \r\nL 328.520227 223.353753 \r\nz\r\n\" style=\"fill:#1f77b4;\"/>\r\n   </g>\r\n   <g id=\"patch_96\">\r\n    <path clip-path=\"url(#p5f8ed5c71c)\" d=\"M 331.563864 224.64 \r\nL 334.6075 224.64 \r\nL 334.6075 223.675315 \r\nL 331.563864 223.675315 \r\nz\r\n\" style=\"fill:#1f77b4;\"/>\r\n   </g>\r\n   <g id=\"patch_97\">\r\n    <path clip-path=\"url(#p5f8ed5c71c)\" d=\"M 334.6075 224.64 \r\nL 337.651136 224.64 \r\nL 337.651136 224.64 \r\nL 334.6075 224.64 \r\nz\r\n\" style=\"fill:#1f77b4;\"/>\r\n   </g>\r\n   <g id=\"patch_98\">\r\n    <path clip-path=\"url(#p5f8ed5c71c)\" d=\"M 337.651136 224.64 \r\nL 340.694773 224.64 \r\nL 340.694773 224.64 \r\nL 337.651136 224.64 \r\nz\r\n\" style=\"fill:#1f77b4;\"/>\r\n   </g>\r\n   <g id=\"patch_99\">\r\n    <path clip-path=\"url(#p5f8ed5c71c)\" d=\"M 340.694773 224.64 \r\nL 343.738409 224.64 \r\nL 343.738409 224.64 \r\nL 340.694773 224.64 \r\nz\r\n\" style=\"fill:#1f77b4;\"/>\r\n   </g>\r\n   <g id=\"patch_100\">\r\n    <path clip-path=\"url(#p5f8ed5c71c)\" d=\"M 343.738409 224.64 \r\nL 346.782045 224.64 \r\nL 346.782045 224.318438 \r\nL 343.738409 224.318438 \r\nz\r\n\" style=\"fill:#1f77b4;\"/>\r\n   </g>\r\n   <g id=\"patch_101\">\r\n    <path clip-path=\"url(#p5f8ed5c71c)\" d=\"M 346.782045 224.64 \r\nL 349.825682 224.64 \r\nL 349.825682 224.64 \r\nL 346.782045 224.64 \r\nz\r\n\" style=\"fill:#1f77b4;\"/>\r\n   </g>\r\n   <g id=\"patch_102\">\r\n    <path clip-path=\"url(#p5f8ed5c71c)\" d=\"M 349.825682 224.64 \r\nL 352.869318 224.64 \r\nL 352.869318 223.996877 \r\nL 349.825682 223.996877 \r\nz\r\n\" style=\"fill:#1f77b4;\"/>\r\n   </g>\r\n   <g id=\"matplotlib.axis_1\">\r\n    <g id=\"xtick_1\">\r\n     <g id=\"line2d_1\">\r\n      <defs>\r\n       <path d=\"M 0 0 \r\nL 0 3.5 \r\n\" id=\"m455dfe7964\" style=\"stroke:#000000;stroke-width:0.8;\"/>\r\n      </defs>\r\n      <g>\r\n       <use style=\"stroke:#000000;stroke-width:0.8;\" x=\"51.135272\" xlink:href=\"#m455dfe7964\" y=\"224.64\"/>\r\n      </g>\r\n     </g>\r\n     <g id=\"text_1\">\r\n      <!-- −15 -->\r\n      <g transform=\"translate(40.582928 239.238437)scale(0.1 -0.1)\">\r\n       <defs>\r\n        <path d=\"M 678 2272 \r\nL 4684 2272 \r\nL 4684 1741 \r\nL 678 1741 \r\nL 678 2272 \r\nz\r\n\" id=\"DejaVuSans-2212\" transform=\"scale(0.015625)\"/>\r\n        <path d=\"M 794 531 \r\nL 1825 531 \r\nL 1825 4091 \r\nL 703 3866 \r\nL 703 4441 \r\nL 1819 4666 \r\nL 2450 4666 \r\nL 2450 531 \r\nL 3481 531 \r\nL 3481 0 \r\nL 794 0 \r\nL 794 531 \r\nz\r\n\" id=\"DejaVuSans-31\" transform=\"scale(0.015625)\"/>\r\n        <path d=\"M 691 4666 \r\nL 3169 4666 \r\nL 3169 4134 \r\nL 1269 4134 \r\nL 1269 2991 \r\nQ 1406 3038 1543 3061 \r\nQ 1681 3084 1819 3084 \r\nQ 2600 3084 3056 2656 \r\nQ 3513 2228 3513 1497 \r\nQ 3513 744 3044 326 \r\nQ 2575 -91 1722 -91 \r\nQ 1428 -91 1123 -41 \r\nQ 819 9 494 109 \r\nL 494 744 \r\nQ 775 591 1075 516 \r\nQ 1375 441 1709 441 \r\nQ 2250 441 2565 725 \r\nQ 2881 1009 2881 1497 \r\nQ 2881 1984 2565 2268 \r\nQ 2250 2553 1709 2553 \r\nQ 1456 2553 1204 2497 \r\nQ 953 2441 691 2322 \r\nL 691 4666 \r\nz\r\n\" id=\"DejaVuSans-35\" transform=\"scale(0.015625)\"/>\r\n       </defs>\r\n       <use xlink:href=\"#DejaVuSans-2212\"/>\r\n       <use x=\"83.789062\" xlink:href=\"#DejaVuSans-31\"/>\r\n       <use x=\"147.412109\" xlink:href=\"#DejaVuSans-35\"/>\r\n      </g>\r\n     </g>\r\n    </g>\r\n    <g id=\"xtick_2\">\r\n     <g id=\"line2d_2\">\r\n      <g>\r\n       <use style=\"stroke:#000000;stroke-width:0.8;\" x=\"96.463698\" xlink:href=\"#m455dfe7964\" y=\"224.64\"/>\r\n      </g>\r\n     </g>\r\n     <g id=\"text_2\">\r\n      <!-- −10 -->\r\n      <g transform=\"translate(85.911354 239.238437)scale(0.1 -0.1)\">\r\n       <defs>\r\n        <path d=\"M 2034 4250 \r\nQ 1547 4250 1301 3770 \r\nQ 1056 3291 1056 2328 \r\nQ 1056 1369 1301 889 \r\nQ 1547 409 2034 409 \r\nQ 2525 409 2770 889 \r\nQ 3016 1369 3016 2328 \r\nQ 3016 3291 2770 3770 \r\nQ 2525 4250 2034 4250 \r\nz\r\nM 2034 4750 \r\nQ 2819 4750 3233 4129 \r\nQ 3647 3509 3647 2328 \r\nQ 3647 1150 3233 529 \r\nQ 2819 -91 2034 -91 \r\nQ 1250 -91 836 529 \r\nQ 422 1150 422 2328 \r\nQ 422 3509 836 4129 \r\nQ 1250 4750 2034 4750 \r\nz\r\n\" id=\"DejaVuSans-30\" transform=\"scale(0.015625)\"/>\r\n       </defs>\r\n       <use xlink:href=\"#DejaVuSans-2212\"/>\r\n       <use x=\"83.789062\" xlink:href=\"#DejaVuSans-31\"/>\r\n       <use x=\"147.412109\" xlink:href=\"#DejaVuSans-30\"/>\r\n      </g>\r\n     </g>\r\n    </g>\r\n    <g id=\"xtick_3\">\r\n     <g id=\"line2d_3\">\r\n      <g>\r\n       <use style=\"stroke:#000000;stroke-width:0.8;\" x=\"141.792124\" xlink:href=\"#m455dfe7964\" y=\"224.64\"/>\r\n      </g>\r\n     </g>\r\n     <g id=\"text_3\">\r\n      <!-- −5 -->\r\n      <g transform=\"translate(134.421031 239.238437)scale(0.1 -0.1)\">\r\n       <use xlink:href=\"#DejaVuSans-2212\"/>\r\n       <use x=\"83.789062\" xlink:href=\"#DejaVuSans-35\"/>\r\n      </g>\r\n     </g>\r\n    </g>\r\n    <g id=\"xtick_4\">\r\n     <g id=\"line2d_4\">\r\n      <g>\r\n       <use style=\"stroke:#000000;stroke-width:0.8;\" x=\"187.120551\" xlink:href=\"#m455dfe7964\" y=\"224.64\"/>\r\n      </g>\r\n     </g>\r\n     <g id=\"text_4\">\r\n      <!-- 0 -->\r\n      <g transform=\"translate(183.939301 239.238437)scale(0.1 -0.1)\">\r\n       <use xlink:href=\"#DejaVuSans-30\"/>\r\n      </g>\r\n     </g>\r\n    </g>\r\n    <g id=\"xtick_5\">\r\n     <g id=\"line2d_5\">\r\n      <g>\r\n       <use style=\"stroke:#000000;stroke-width:0.8;\" x=\"232.448977\" xlink:href=\"#m455dfe7964\" y=\"224.64\"/>\r\n      </g>\r\n     </g>\r\n     <g id=\"text_5\">\r\n      <!-- 5 -->\r\n      <g transform=\"translate(229.267727 239.238437)scale(0.1 -0.1)\">\r\n       <use xlink:href=\"#DejaVuSans-35\"/>\r\n      </g>\r\n     </g>\r\n    </g>\r\n    <g id=\"xtick_6\">\r\n     <g id=\"line2d_6\">\r\n      <g>\r\n       <use style=\"stroke:#000000;stroke-width:0.8;\" x=\"277.777403\" xlink:href=\"#m455dfe7964\" y=\"224.64\"/>\r\n      </g>\r\n     </g>\r\n     <g id=\"text_6\">\r\n      <!-- 10 -->\r\n      <g transform=\"translate(271.414903 239.238437)scale(0.1 -0.1)\">\r\n       <use xlink:href=\"#DejaVuSans-31\"/>\r\n       <use x=\"63.623047\" xlink:href=\"#DejaVuSans-30\"/>\r\n      </g>\r\n     </g>\r\n    </g>\r\n    <g id=\"xtick_7\">\r\n     <g id=\"line2d_7\">\r\n      <g>\r\n       <use style=\"stroke:#000000;stroke-width:0.8;\" x=\"323.10583\" xlink:href=\"#m455dfe7964\" y=\"224.64\"/>\r\n      </g>\r\n     </g>\r\n     <g id=\"text_7\">\r\n      <!-- 15 -->\r\n      <g transform=\"translate(316.74333 239.238437)scale(0.1 -0.1)\">\r\n       <use xlink:href=\"#DejaVuSans-31\"/>\r\n       <use x=\"63.623047\" xlink:href=\"#DejaVuSans-35\"/>\r\n      </g>\r\n     </g>\r\n    </g>\r\n   </g>\r\n   <g id=\"matplotlib.axis_2\">\r\n    <g id=\"ytick_1\">\r\n     <g id=\"line2d_8\">\r\n      <defs>\r\n       <path d=\"M 0 0 \r\nL -3.5 0 \r\n\" id=\"m1f2888e7f9\" style=\"stroke:#000000;stroke-width:0.8;\"/>\r\n      </defs>\r\n      <g>\r\n       <use style=\"stroke:#000000;stroke-width:0.8;\" x=\"33.2875\" xlink:href=\"#m1f2888e7f9\" y=\"224.64\"/>\r\n      </g>\r\n     </g>\r\n     <g id=\"text_8\">\r\n      <!-- 0 -->\r\n      <g transform=\"translate(19.925 228.439219)scale(0.1 -0.1)\">\r\n       <use xlink:href=\"#DejaVuSans-30\"/>\r\n      </g>\r\n     </g>\r\n    </g>\r\n    <g id=\"ytick_2\">\r\n     <g id=\"line2d_9\">\r\n      <g>\r\n       <use style=\"stroke:#000000;stroke-width:0.8;\" x=\"33.2875\" xlink:href=\"#m1f2888e7f9\" y=\"192.483833\"/>\r\n      </g>\r\n     </g>\r\n     <g id=\"text_9\">\r\n      <!-- 100 -->\r\n      <g transform=\"translate(7.2 196.283052)scale(0.1 -0.1)\">\r\n       <use xlink:href=\"#DejaVuSans-31\"/>\r\n       <use x=\"63.623047\" xlink:href=\"#DejaVuSans-30\"/>\r\n       <use x=\"127.246094\" xlink:href=\"#DejaVuSans-30\"/>\r\n      </g>\r\n     </g>\r\n    </g>\r\n    <g id=\"ytick_3\">\r\n     <g id=\"line2d_10\">\r\n      <g>\r\n       <use style=\"stroke:#000000;stroke-width:0.8;\" x=\"33.2875\" xlink:href=\"#m1f2888e7f9\" y=\"160.327666\"/>\r\n      </g>\r\n     </g>\r\n     <g id=\"text_10\">\r\n      <!-- 200 -->\r\n      <g transform=\"translate(7.2 164.126885)scale(0.1 -0.1)\">\r\n       <defs>\r\n        <path d=\"M 1228 531 \r\nL 3431 531 \r\nL 3431 0 \r\nL 469 0 \r\nL 469 531 \r\nQ 828 903 1448 1529 \r\nQ 2069 2156 2228 2338 \r\nQ 2531 2678 2651 2914 \r\nQ 2772 3150 2772 3378 \r\nQ 2772 3750 2511 3984 \r\nQ 2250 4219 1831 4219 \r\nQ 1534 4219 1204 4116 \r\nQ 875 4013 500 3803 \r\nL 500 4441 \r\nQ 881 4594 1212 4672 \r\nQ 1544 4750 1819 4750 \r\nQ 2544 4750 2975 4387 \r\nQ 3406 4025 3406 3419 \r\nQ 3406 3131 3298 2873 \r\nQ 3191 2616 2906 2266 \r\nQ 2828 2175 2409 1742 \r\nQ 1991 1309 1228 531 \r\nz\r\n\" id=\"DejaVuSans-32\" transform=\"scale(0.015625)\"/>\r\n       </defs>\r\n       <use xlink:href=\"#DejaVuSans-32\"/>\r\n       <use x=\"63.623047\" xlink:href=\"#DejaVuSans-30\"/>\r\n       <use x=\"127.246094\" xlink:href=\"#DejaVuSans-30\"/>\r\n      </g>\r\n     </g>\r\n    </g>\r\n    <g id=\"ytick_4\">\r\n     <g id=\"line2d_11\">\r\n      <g>\r\n       <use style=\"stroke:#000000;stroke-width:0.8;\" x=\"33.2875\" xlink:href=\"#m1f2888e7f9\" y=\"128.1715\"/>\r\n      </g>\r\n     </g>\r\n     <g id=\"text_11\">\r\n      <!-- 300 -->\r\n      <g transform=\"translate(7.2 131.970718)scale(0.1 -0.1)\">\r\n       <defs>\r\n        <path d=\"M 2597 2516 \r\nQ 3050 2419 3304 2112 \r\nQ 3559 1806 3559 1356 \r\nQ 3559 666 3084 287 \r\nQ 2609 -91 1734 -91 \r\nQ 1441 -91 1130 -33 \r\nQ 819 25 488 141 \r\nL 488 750 \r\nQ 750 597 1062 519 \r\nQ 1375 441 1716 441 \r\nQ 2309 441 2620 675 \r\nQ 2931 909 2931 1356 \r\nQ 2931 1769 2642 2001 \r\nQ 2353 2234 1838 2234 \r\nL 1294 2234 \r\nL 1294 2753 \r\nL 1863 2753 \r\nQ 2328 2753 2575 2939 \r\nQ 2822 3125 2822 3475 \r\nQ 2822 3834 2567 4026 \r\nQ 2313 4219 1838 4219 \r\nQ 1578 4219 1281 4162 \r\nQ 984 4106 628 3988 \r\nL 628 4550 \r\nQ 988 4650 1302 4700 \r\nQ 1616 4750 1894 4750 \r\nQ 2613 4750 3031 4423 \r\nQ 3450 4097 3450 3541 \r\nQ 3450 3153 3228 2886 \r\nQ 3006 2619 2597 2516 \r\nz\r\n\" id=\"DejaVuSans-33\" transform=\"scale(0.015625)\"/>\r\n       </defs>\r\n       <use xlink:href=\"#DejaVuSans-33\"/>\r\n       <use x=\"63.623047\" xlink:href=\"#DejaVuSans-30\"/>\r\n       <use x=\"127.246094\" xlink:href=\"#DejaVuSans-30\"/>\r\n      </g>\r\n     </g>\r\n    </g>\r\n    <g id=\"ytick_5\">\r\n     <g id=\"line2d_12\">\r\n      <g>\r\n       <use style=\"stroke:#000000;stroke-width:0.8;\" x=\"33.2875\" xlink:href=\"#m1f2888e7f9\" y=\"96.015333\"/>\r\n      </g>\r\n     </g>\r\n     <g id=\"text_12\">\r\n      <!-- 400 -->\r\n      <g transform=\"translate(7.2 99.814551)scale(0.1 -0.1)\">\r\n       <defs>\r\n        <path d=\"M 2419 4116 \r\nL 825 1625 \r\nL 2419 1625 \r\nL 2419 4116 \r\nz\r\nM 2253 4666 \r\nL 3047 4666 \r\nL 3047 1625 \r\nL 3713 1625 \r\nL 3713 1100 \r\nL 3047 1100 \r\nL 3047 0 \r\nL 2419 0 \r\nL 2419 1100 \r\nL 313 1100 \r\nL 313 1709 \r\nL 2253 4666 \r\nz\r\n\" id=\"DejaVuSans-34\" transform=\"scale(0.015625)\"/>\r\n       </defs>\r\n       <use xlink:href=\"#DejaVuSans-34\"/>\r\n       <use x=\"63.623047\" xlink:href=\"#DejaVuSans-30\"/>\r\n       <use x=\"127.246094\" xlink:href=\"#DejaVuSans-30\"/>\r\n      </g>\r\n     </g>\r\n    </g>\r\n    <g id=\"ytick_6\">\r\n     <g id=\"line2d_13\">\r\n      <g>\r\n       <use style=\"stroke:#000000;stroke-width:0.8;\" x=\"33.2875\" xlink:href=\"#m1f2888e7f9\" y=\"63.859166\"/>\r\n      </g>\r\n     </g>\r\n     <g id=\"text_13\">\r\n      <!-- 500 -->\r\n      <g transform=\"translate(7.2 67.658385)scale(0.1 -0.1)\">\r\n       <use xlink:href=\"#DejaVuSans-35\"/>\r\n       <use x=\"63.623047\" xlink:href=\"#DejaVuSans-30\"/>\r\n       <use x=\"127.246094\" xlink:href=\"#DejaVuSans-30\"/>\r\n      </g>\r\n     </g>\r\n    </g>\r\n    <g id=\"ytick_7\">\r\n     <g id=\"line2d_14\">\r\n      <g>\r\n       <use style=\"stroke:#000000;stroke-width:0.8;\" x=\"33.2875\" xlink:href=\"#m1f2888e7f9\" y=\"31.702999\"/>\r\n      </g>\r\n     </g>\r\n     <g id=\"text_14\">\r\n      <!-- 600 -->\r\n      <g transform=\"translate(7.2 35.502218)scale(0.1 -0.1)\">\r\n       <defs>\r\n        <path d=\"M 2113 2584 \r\nQ 1688 2584 1439 2293 \r\nQ 1191 2003 1191 1497 \r\nQ 1191 994 1439 701 \r\nQ 1688 409 2113 409 \r\nQ 2538 409 2786 701 \r\nQ 3034 994 3034 1497 \r\nQ 3034 2003 2786 2293 \r\nQ 2538 2584 2113 2584 \r\nz\r\nM 3366 4563 \r\nL 3366 3988 \r\nQ 3128 4100 2886 4159 \r\nQ 2644 4219 2406 4219 \r\nQ 1781 4219 1451 3797 \r\nQ 1122 3375 1075 2522 \r\nQ 1259 2794 1537 2939 \r\nQ 1816 3084 2150 3084 \r\nQ 2853 3084 3261 2657 \r\nQ 3669 2231 3669 1497 \r\nQ 3669 778 3244 343 \r\nQ 2819 -91 2113 -91 \r\nQ 1303 -91 875 529 \r\nQ 447 1150 447 2328 \r\nQ 447 3434 972 4092 \r\nQ 1497 4750 2381 4750 \r\nQ 2619 4750 2861 4703 \r\nQ 3103 4656 3366 4563 \r\nz\r\n\" id=\"DejaVuSans-36\" transform=\"scale(0.015625)\"/>\r\n       </defs>\r\n       <use xlink:href=\"#DejaVuSans-36\"/>\r\n       <use x=\"63.623047\" xlink:href=\"#DejaVuSans-30\"/>\r\n       <use x=\"127.246094\" xlink:href=\"#DejaVuSans-30\"/>\r\n      </g>\r\n     </g>\r\n    </g>\r\n   </g>\r\n   <g id=\"patch_103\">\r\n    <path d=\"M 33.2875 224.64 \r\nL 33.2875 7.2 \r\n\" style=\"fill:none;stroke:#000000;stroke-linecap:square;stroke-linejoin:miter;stroke-width:0.8;\"/>\r\n   </g>\r\n   <g id=\"patch_104\">\r\n    <path d=\"M 368.0875 224.64 \r\nL 368.0875 7.2 \r\n\" style=\"fill:none;stroke:#000000;stroke-linecap:square;stroke-linejoin:miter;stroke-width:0.8;\"/>\r\n   </g>\r\n   <g id=\"patch_105\">\r\n    <path d=\"M 33.2875 224.64 \r\nL 368.0875 224.64 \r\n\" style=\"fill:none;stroke:#000000;stroke-linecap:square;stroke-linejoin:miter;stroke-width:0.8;\"/>\r\n   </g>\r\n   <g id=\"patch_106\">\r\n    <path d=\"M 33.2875 7.2 \r\nL 368.0875 7.2 \r\n\" style=\"fill:none;stroke:#000000;stroke-linecap:square;stroke-linejoin:miter;stroke-width:0.8;\"/>\r\n   </g>\r\n  </g>\r\n </g>\r\n <defs>\r\n  <clipPath id=\"p5f8ed5c71c\">\r\n   <rect height=\"217.44\" width=\"334.8\" x=\"33.2875\" y=\"7.2\"/>\r\n  </clipPath>\r\n </defs>\r\n</svg>\r\n",
      "image/png": "[encoded data removed]"
     },
     "metadata": {
      "needs_background": "light"
     }
    }
   ],
   "source": [
    "import numpy as np\n",
    "import pandas as pd\n",
    "\n",
    "n = 1000\n",
    "t = 20\n",
    "beta = np.array([-1,3]).reshape(2,1)\n",
    "\n",
    "X = np.random.normal(0, 4, n*t).reshape(n*t,1)\n",
    "D1 = np.random.binomial(1, 0.4,n).reshape(n,1)\n",
    "Di = np.repeat(D1,t).reshape(n*t,1)\n",
    "u = np.random.uniform(-1,1,n*t).reshape(n*t,1)\n",
    "\n",
    "a = np.zeros((n,1))\n",
    "a[D1 == 1] = np.random.normal(0,0.3,np.sum(D1==1))\n",
    "a[D1 == 0] = np.random.normal(0,0.2,np.sum(D1==0))\n",
    "\n",
    "Xa = np.c_[X,Di]\n",
    "#Xa = np.array([X,Di]).reshape(n*t,2)\n",
    "D = np.kron(np.eye(n), np.ones((t,1)))\n",
    "\n",
    "Y = Xa @ beta + D @ a + u\n",
    "\n",
    "import matplotlib.pyplot as plt \n",
    "# Visualización de la distribución de Y\n",
    "plt.hist(Y, bins=100)\n",
    "plt.show()"
   ]
  },
  {
   "cell_type": "code",
   "execution_count": 16,
   "metadata": {},
   "outputs": [
    {
     "output_type": "execute_result",
     "data": {
      "text/plain": [
       "array([[-0.00491294],\n",
       "       [-1.00072342],\n",
       "       [ 3.0349691 ]])"
      ]
     },
     "metadata": {},
     "execution_count": 16
    }
   ],
   "source": [
    "# P1\n",
    "Xb = np.zeros((n*t*3)).reshape(n*t,3)\n",
    "const = np.ones(n*t)\n",
    "Xb[:,0] = const\n",
    "Xb[:,[1,2]] = Xa\n",
    "\n",
    "beta_ols = np.linalg.inv(Xb.T @ Xb) @ Xb.T @ Y\n",
    "res_ols = Y - Xb @ beta_ols\n",
    "var_res = res_ols.T @ res_ols /(n*t - 2)\n",
    "var_ols = var_res * np.linalg.inv(Xb.T @ Xb)"
   ]
  },
  {
   "cell_type": "code",
   "execution_count": null,
   "metadata": {},
   "outputs": [],
   "source": [
    "# P2\n",
    "# X_W = (np.eye(n*t) - (D @ np.linalg.inv(D.T @ D) @ D.T))@ Xa"
   ]
  },
  {
   "cell_type": "code",
   "execution_count": 4,
   "metadata": {},
   "outputs": [
    {
     "output_type": "stream",
     "name": "stdout",
     "text": [
      "[[ 3.11202790e-05 -4.35118863e-08 -3.11204924e-05]\n [-4.35118863e-08  1.19977742e-06 -6.32346957e-09]\n [-3.11204924e-05 -6.32346957e-09  8.42553086e-05]]\n[-1.91390637e-06  1.43361185e-06  8.01225682e-09]\n"
     ]
    }
   ],
   "source": [
    "# P3 \n",
    "aux = np.diag((Y - Xb @ beta_ols)[:,0])**2\n",
    "res_EW = Xb.T @ aux @ Xb\n",
    "var_EW = np.linalg.inv(Xb.T @ Xb) @ res_EW @ np.linalg.inv(Xb.T @ Xb)\n",
    "print(var_EW)\n",
    "\n",
    "diff = var_ols - var_EW\n",
    "print(np.linalg.eig(diff)[0])"
   ]
  },
  {
   "cell_type": "code",
   "execution_count": 5,
   "metadata": {},
   "outputs": [
    {
     "output_type": "execute_result",
     "data": {
      "text/plain": [
       "0.6059756129371365"
      ]
     },
     "metadata": {},
     "execution_count": 5
    }
   ],
   "source": [
    "# P4\n",
    "res_M = res_ols.reshape(t,n)\n",
    "res_t = res_M[:-1,:].reshape(n*(t-1),)\n",
    "res_t_1 = res_M[1:,:].reshape(n*(t-1),)\n",
    "phi_s = (np.sqrt(n*t)) * np.sum(res_t * res_t_1)/np.sum(res_t_1 * res_t_1)\n",
    "phi_s\n"
   ]
  },
  {
   "cell_type": "code",
   "execution_count": 7,
   "metadata": {},
   "outputs": [
    {
     "output_type": "execute_result",
     "data": {
      "text/plain": [
       "array([[ 0.19726265],\n",
       "       [ 0.55351529],\n",
       "       [ 0.14945398],\n",
       "       ...,\n",
       "       [ 0.4655043 ],\n",
       "       [-1.0615206 ],\n",
       "       [ 0.37817207]])"
      ]
     },
     "metadata": {},
     "execution_count": 7
    }
   ],
   "source": [
    "res_ols"
   ]
  },
  {
   "cell_type": "code",
   "execution_count": 9,
   "metadata": {},
   "outputs": [
    {
     "output_type": "execute_result",
     "data": {
      "text/plain": [
       "array([[ 0.95, -0.05, -0.05, ...,  0.  ,  0.  ,  0.  ],\n",
       "       [-0.05,  0.95, -0.05, ...,  0.  ,  0.  ,  0.  ],\n",
       "       [-0.05, -0.05,  0.95, ...,  0.  ,  0.  ,  0.  ],\n",
       "       ...,\n",
       "       [ 0.  ,  0.  ,  0.  , ...,  0.95, -0.05, -0.05],\n",
       "       [ 0.  ,  0.  ,  0.  , ..., -0.05,  0.95, -0.05],\n",
       "       [ 0.  ,  0.  ,  0.  , ..., -0.05, -0.05,  0.95]])"
      ]
     },
     "metadata": {},
     "execution_count": 9
    }
   ],
   "source": [
    "# P5 Basados en la forma que ud gener´o los datos y los supuestos de cada estimaci´on,\n",
    "#¿debiera preferirse efectos fijos o efectos aleatorios?\n",
    "aux_FE = (np.eye(n*t) - D @ np.linalg.inv(D.T @ D) @ D.T)\n",
    "aux_FE"
   ]
  },
  {
   "cell_type": "code",
   "execution_count": 10,
   "metadata": {},
   "outputs": [
    {
     "output_type": "stream",
     "name": "stdout",
     "text": [
      "[[-9.99315176e-01]\n [ 6.38514959e+12]]\n"
     ]
    }
   ],
   "source": [
    "# P6\n",
    "#aux_FE = (np.eye(n*t) - D @ np.linalg.inv(D.T @ D) @ D.T)\n",
    "X_FE = aux_FE @ Xa\n",
    "Y_FE = aux_FE @ Y\n",
    "beta_fe = np.linalg.inv(X_FE.T @ X_FE) @ X_FE.T @ Y_FE\n",
    "print(beta_fe)\n"
   ]
  },
  {
   "cell_type": "code",
   "execution_count": 103,
   "metadata": {},
   "outputs": [
    {
     "output_type": "error",
     "ename": "ValueError",
     "evalue": "could not broadcast input array from shape (3,) into shape (2,)",
     "traceback": [
      "\u001b[1;31m---------------------------------------------------------------------------\u001b[0m",
      "\u001b[1;31mValueError\u001b[0m                                Traceback (most recent call last)",
      "\u001b[1;32m<ipython-input-103-388f7f20788c>\u001b[0m in \u001b[0;36m<module>\u001b[1;34m\u001b[0m\n\u001b[0;32m      6\u001b[0m \u001b[1;32mfor\u001b[0m \u001b[0mi\u001b[0m \u001b[1;32min\u001b[0m \u001b[0mrange\u001b[0m\u001b[1;33m(\u001b[0m\u001b[0mn\u001b[0m\u001b[1;33m)\u001b[0m\u001b[1;33m:\u001b[0m\u001b[1;33m\u001b[0m\u001b[1;33m\u001b[0m\u001b[0m\n\u001b[0;32m      7\u001b[0m     \u001b[1;32mfor\u001b[0m \u001b[0mj\u001b[0m \u001b[1;32min\u001b[0m \u001b[0mrange\u001b[0m\u001b[1;33m(\u001b[0m\u001b[0mt\u001b[0m\u001b[1;33m)\u001b[0m\u001b[1;33m:\u001b[0m\u001b[1;33m\u001b[0m\u001b[1;33m\u001b[0m\u001b[0m\n\u001b[1;32m----> 8\u001b[1;33m         \u001b[0mX_mean\u001b[0m\u001b[1;33m[\u001b[0m\u001b[0mi2\u001b[0m\u001b[1;33m,\u001b[0m\u001b[1;33m:\u001b[0m\u001b[1;33m]\u001b[0m \u001b[1;33m=\u001b[0m \u001b[0mnp\u001b[0m\u001b[1;33m.\u001b[0m\u001b[0mmean\u001b[0m\u001b[1;33m(\u001b[0m\u001b[0mXa\u001b[0m\u001b[1;33m[\u001b[0m\u001b[0mk\u001b[0m\u001b[1;33m:\u001b[0m\u001b[0ml\u001b[0m\u001b[1;33m,\u001b[0m\u001b[1;33m:\u001b[0m\u001b[1;33m]\u001b[0m\u001b[1;33m,\u001b[0m\u001b[1;36m1\u001b[0m\u001b[1;33m)\u001b[0m\u001b[1;33m\u001b[0m\u001b[1;33m\u001b[0m\u001b[0m\n\u001b[0m\u001b[0;32m      9\u001b[0m         \u001b[0mY_mean\u001b[0m\u001b[1;33m[\u001b[0m\u001b[0mi2\u001b[0m\u001b[1;33m,\u001b[0m\u001b[1;33m:\u001b[0m\u001b[1;33m]\u001b[0m \u001b[1;33m=\u001b[0m \u001b[0mnp\u001b[0m\u001b[1;33m.\u001b[0m\u001b[0mmean\u001b[0m\u001b[1;33m(\u001b[0m\u001b[0mY\u001b[0m\u001b[1;33m[\u001b[0m\u001b[0mk\u001b[0m\u001b[1;33m:\u001b[0m\u001b[0ml\u001b[0m\u001b[1;33m,\u001b[0m\u001b[1;33m:\u001b[0m\u001b[1;33m]\u001b[0m\u001b[1;33m,\u001b[0m\u001b[1;36m1\u001b[0m\u001b[1;33m)\u001b[0m\u001b[1;33m\u001b[0m\u001b[1;33m\u001b[0m\u001b[0m\n\u001b[0;32m     10\u001b[0m         \u001b[0mk\u001b[0m \u001b[1;33m=\u001b[0m \u001b[0mk\u001b[0m \u001b[1;33m+\u001b[0m \u001b[1;36m1\u001b[0m\u001b[1;33m\u001b[0m\u001b[1;33m\u001b[0m\u001b[0m\n",
      "\u001b[1;31mValueError\u001b[0m: could not broadcast input array from shape (3,) into shape (2,)"
     ]
    }
   ],
   "source": [
    "k = 0\n",
    "l = t\n",
    "X_mean = np.zeros(n*t*2).reshape(n*t,2)\n",
    "Y_mean = np.zeros(n*t*2).reshape(n*t,2)\n",
    "i2 = 0\n",
    "for i in range(n):\n",
    "    for j in range(t):\n",
    "        X_mean[i2,:] = np.mean(Xa[k:l,:],1)\n",
    "        Y_mean[i2,:] = np.mean(Y[k:l,:],1)\n",
    "        k = k + 1\n",
    "        l = l + t"
   ]
  }
 ]
}